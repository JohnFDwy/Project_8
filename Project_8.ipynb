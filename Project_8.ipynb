{
 "cells": [
  {
   "cell_type": "markdown",
   "metadata": {},
   "source": [
    "# Introduction:\n",
    "\n",
    "Beta Bank is looking to create a model to predict the liklihood that a customer will leave the bank as a customer. In this project I will:\n",
    "\n",
    "1. Download the data for current customers and prepare the data to be used to train our prediction model\n",
    "2. Examine the balnace of classes in our model\n",
    "3. Improve the quality of the model by fixing class imbalances\n",
    "4. Perform final testing\n",
    "\n",
    "The final goal of this model will be to have an F1 score of above 0.59"
   ]
  },
  {
   "cell_type": "markdown",
   "metadata": {},
   "source": [
    "## Download and prepare data"
   ]
  },
  {
   "cell_type": "code",
   "execution_count": 1,
   "metadata": {},
   "outputs": [
    {
     "name": "stdout",
     "output_type": "stream",
     "text": [
      "Requirement already satisfied: imblearn in /home/jovyan/.local/lib/python3.9/site-packages (0.0)\n",
      "Requirement already satisfied: imbalanced-learn in /home/jovyan/.local/lib/python3.9/site-packages (from imblearn) (0.12.4)\n",
      "Requirement already satisfied: numpy>=1.17.3 in /opt/conda/envs/python3/lib/python3.9/site-packages (from imbalanced-learn->imblearn) (1.21.2)\n",
      "Requirement already satisfied: scipy>=1.5.0 in /opt/conda/envs/python3/lib/python3.9/site-packages (from imbalanced-learn->imblearn) (1.10.1)\n",
      "Requirement already satisfied: scikit-learn>=1.0.2 in /home/jovyan/.local/lib/python3.9/site-packages (from imbalanced-learn->imblearn) (1.5.2)\n",
      "Requirement already satisfied: joblib>=1.1.1 in /opt/conda/envs/python3/lib/python3.9/site-packages (from imbalanced-learn->imblearn) (1.4.2)\n",
      "Requirement already satisfied: threadpoolctl>=2.0.0 in /opt/conda/envs/python3/lib/python3.9/site-packages (from imbalanced-learn->imblearn) (3.5.0)\n",
      "Note: you may need to restart the kernel to use updated packages.\n"
     ]
    }
   ],
   "source": [
    "pip install imblearn --user"
   ]
  },
  {
   "cell_type": "code",
   "execution_count": 2,
   "metadata": {},
   "outputs": [],
   "source": [
    "#Import libraries\n",
    "\n",
    "import pandas as pd\n",
    "from sklearn.preprocessing import OrdinalEncoder\n",
    "from sklearn.model_selection import train_test_split\n",
    "from sklearn.tree import DecisionTreeClassifier\n",
    "from sklearn.metrics import accuracy_score\n",
    "from sklearn.ensemble import RandomForestClassifier\n",
    "from sklearn.model_selection import GridSearchCV\n",
    "from sklearn.linear_model import LogisticRegression\n",
    "from sklearn.utils import shuffle\n",
    "from sklearn.metrics import f1_score\n",
    "from sklearn.metrics import roc_auc_score\n",
    "import seaborn as sns\n",
    "import matplotlib.pyplot as plt\n",
    "import plotly.express as px\n",
    "from sklearn.datasets import make_classification\n",
    "from sklearn.metrics import classification_report\n",
    "from sklearn.impute import SimpleImputer\n",
    "from sklearn.model_selection import GridSearchCV\n",
    "from sklearn.feature_selection import SelectFromModel\n",
    "from sklearn.ensemble import BaggingClassifier\n",
    "from sklearn.utils import resample\n",
    "from sklearn.preprocessing import StandardScaler"
   ]
  },
  {
   "cell_type": "code",
   "execution_count": 3,
   "metadata": {},
   "outputs": [
    {
     "name": "stdout",
     "output_type": "stream",
     "text": [
      "<class 'pandas.core.frame.DataFrame'>\n",
      "RangeIndex: 10000 entries, 0 to 9999\n",
      "Data columns (total 14 columns):\n",
      " #   Column           Non-Null Count  Dtype  \n",
      "---  ------           --------------  -----  \n",
      " 0   RowNumber        10000 non-null  int64  \n",
      " 1   CustomerId       10000 non-null  int64  \n",
      " 2   Surname          10000 non-null  object \n",
      " 3   CreditScore      10000 non-null  int64  \n",
      " 4   Geography        10000 non-null  object \n",
      " 5   Gender           10000 non-null  object \n",
      " 6   Age              10000 non-null  int64  \n",
      " 7   Tenure           9091 non-null   float64\n",
      " 8   Balance          10000 non-null  float64\n",
      " 9   NumOfProducts    10000 non-null  int64  \n",
      " 10  HasCrCard        10000 non-null  int64  \n",
      " 11  IsActiveMember   10000 non-null  int64  \n",
      " 12  EstimatedSalary  10000 non-null  float64\n",
      " 13  Exited           10000 non-null  int64  \n",
      "dtypes: float64(3), int64(8), object(3)\n",
      "memory usage: 1.1+ MB\n"
     ]
    }
   ],
   "source": [
    "#Download data and review df info\n",
    "\n",
    "data = pd.read_csv(\"/datasets/Churn.csv\")\n",
    "\n",
    "data.info()"
   ]
  },
  {
   "cell_type": "code",
   "execution_count": 4,
   "metadata": {},
   "outputs": [
    {
     "data": {
      "text/html": [
       "<div>\n",
       "<style scoped>\n",
       "    .dataframe tbody tr th:only-of-type {\n",
       "        vertical-align: middle;\n",
       "    }\n",
       "\n",
       "    .dataframe tbody tr th {\n",
       "        vertical-align: top;\n",
       "    }\n",
       "\n",
       "    .dataframe thead th {\n",
       "        text-align: right;\n",
       "    }\n",
       "</style>\n",
       "<table border=\"1\" class=\"dataframe\">\n",
       "  <thead>\n",
       "    <tr style=\"text-align: right;\">\n",
       "      <th></th>\n",
       "      <th>RowNumber</th>\n",
       "      <th>CustomerId</th>\n",
       "      <th>Surname</th>\n",
       "      <th>CreditScore</th>\n",
       "      <th>Geography</th>\n",
       "      <th>Gender</th>\n",
       "      <th>Age</th>\n",
       "      <th>Tenure</th>\n",
       "      <th>Balance</th>\n",
       "      <th>NumOfProducts</th>\n",
       "      <th>HasCrCard</th>\n",
       "      <th>IsActiveMember</th>\n",
       "      <th>EstimatedSalary</th>\n",
       "      <th>Exited</th>\n",
       "    </tr>\n",
       "  </thead>\n",
       "  <tbody>\n",
       "    <tr>\n",
       "      <th>7420</th>\n",
       "      <td>7421</td>\n",
       "      <td>15765487</td>\n",
       "      <td>Kuo</td>\n",
       "      <td>753</td>\n",
       "      <td>Germany</td>\n",
       "      <td>Female</td>\n",
       "      <td>38</td>\n",
       "      <td>9.0</td>\n",
       "      <td>151766.71</td>\n",
       "      <td>1</td>\n",
       "      <td>1</td>\n",
       "      <td>1</td>\n",
       "      <td>180829.99</td>\n",
       "      <td>0</td>\n",
       "    </tr>\n",
       "    <tr>\n",
       "      <th>6596</th>\n",
       "      <td>6597</td>\n",
       "      <td>15654531</td>\n",
       "      <td>Tuan</td>\n",
       "      <td>477</td>\n",
       "      <td>France</td>\n",
       "      <td>Male</td>\n",
       "      <td>22</td>\n",
       "      <td>5.0</td>\n",
       "      <td>82559.42</td>\n",
       "      <td>2</td>\n",
       "      <td>0</td>\n",
       "      <td>0</td>\n",
       "      <td>163112.90</td>\n",
       "      <td>1</td>\n",
       "    </tr>\n",
       "    <tr>\n",
       "      <th>7207</th>\n",
       "      <td>7208</td>\n",
       "      <td>15570990</td>\n",
       "      <td>Begley</td>\n",
       "      <td>520</td>\n",
       "      <td>Spain</td>\n",
       "      <td>Female</td>\n",
       "      <td>30</td>\n",
       "      <td>4.0</td>\n",
       "      <td>145222.99</td>\n",
       "      <td>2</td>\n",
       "      <td>0</td>\n",
       "      <td>0</td>\n",
       "      <td>145160.96</td>\n",
       "      <td>0</td>\n",
       "    </tr>\n",
       "    <tr>\n",
       "      <th>1330</th>\n",
       "      <td>1331</td>\n",
       "      <td>15742854</td>\n",
       "      <td>Lettiere</td>\n",
       "      <td>640</td>\n",
       "      <td>Spain</td>\n",
       "      <td>Female</td>\n",
       "      <td>46</td>\n",
       "      <td>8.0</td>\n",
       "      <td>0.00</td>\n",
       "      <td>2</td>\n",
       "      <td>1</td>\n",
       "      <td>0</td>\n",
       "      <td>89043.19</td>\n",
       "      <td>0</td>\n",
       "    </tr>\n",
       "    <tr>\n",
       "      <th>9808</th>\n",
       "      <td>9809</td>\n",
       "      <td>15581115</td>\n",
       "      <td>Middleton</td>\n",
       "      <td>603</td>\n",
       "      <td>France</td>\n",
       "      <td>Female</td>\n",
       "      <td>39</td>\n",
       "      <td>9.0</td>\n",
       "      <td>76769.68</td>\n",
       "      <td>1</td>\n",
       "      <td>0</td>\n",
       "      <td>0</td>\n",
       "      <td>48224.72</td>\n",
       "      <td>0</td>\n",
       "    </tr>\n",
       "    <tr>\n",
       "      <th>9360</th>\n",
       "      <td>9361</td>\n",
       "      <td>15671934</td>\n",
       "      <td>Veale</td>\n",
       "      <td>552</td>\n",
       "      <td>Germany</td>\n",
       "      <td>Male</td>\n",
       "      <td>39</td>\n",
       "      <td>2.0</td>\n",
       "      <td>132906.88</td>\n",
       "      <td>1</td>\n",
       "      <td>0</td>\n",
       "      <td>1</td>\n",
       "      <td>149384.43</td>\n",
       "      <td>0</td>\n",
       "    </tr>\n",
       "    <tr>\n",
       "      <th>9547</th>\n",
       "      <td>9548</td>\n",
       "      <td>15682454</td>\n",
       "      <td>McFarland</td>\n",
       "      <td>626</td>\n",
       "      <td>France</td>\n",
       "      <td>Female</td>\n",
       "      <td>34</td>\n",
       "      <td>3.0</td>\n",
       "      <td>0.00</td>\n",
       "      <td>2</td>\n",
       "      <td>1</td>\n",
       "      <td>1</td>\n",
       "      <td>37870.29</td>\n",
       "      <td>0</td>\n",
       "    </tr>\n",
       "    <tr>\n",
       "      <th>3218</th>\n",
       "      <td>3219</td>\n",
       "      <td>15774872</td>\n",
       "      <td>Joslin</td>\n",
       "      <td>663</td>\n",
       "      <td>France</td>\n",
       "      <td>Male</td>\n",
       "      <td>36</td>\n",
       "      <td>10.0</td>\n",
       "      <td>0.00</td>\n",
       "      <td>2</td>\n",
       "      <td>1</td>\n",
       "      <td>0</td>\n",
       "      <td>136349.55</td>\n",
       "      <td>0</td>\n",
       "    </tr>\n",
       "    <tr>\n",
       "      <th>9053</th>\n",
       "      <td>9054</td>\n",
       "      <td>15604551</td>\n",
       "      <td>Robb</td>\n",
       "      <td>732</td>\n",
       "      <td>France</td>\n",
       "      <td>Female</td>\n",
       "      <td>35</td>\n",
       "      <td>3.0</td>\n",
       "      <td>0.00</td>\n",
       "      <td>2</td>\n",
       "      <td>1</td>\n",
       "      <td>0</td>\n",
       "      <td>90876.95</td>\n",
       "      <td>0</td>\n",
       "    </tr>\n",
       "    <tr>\n",
       "      <th>4084</th>\n",
       "      <td>4085</td>\n",
       "      <td>15750458</td>\n",
       "      <td>Hawkins</td>\n",
       "      <td>693</td>\n",
       "      <td>France</td>\n",
       "      <td>Female</td>\n",
       "      <td>39</td>\n",
       "      <td>4.0</td>\n",
       "      <td>0.00</td>\n",
       "      <td>2</td>\n",
       "      <td>0</td>\n",
       "      <td>1</td>\n",
       "      <td>142331.39</td>\n",
       "      <td>0</td>\n",
       "    </tr>\n",
       "  </tbody>\n",
       "</table>\n",
       "</div>"
      ],
      "text/plain": [
       "      RowNumber  CustomerId    Surname  CreditScore Geography  Gender  Age  \\\n",
       "7420       7421    15765487        Kuo          753   Germany  Female   38   \n",
       "6596       6597    15654531       Tuan          477    France    Male   22   \n",
       "7207       7208    15570990     Begley          520     Spain  Female   30   \n",
       "1330       1331    15742854   Lettiere          640     Spain  Female   46   \n",
       "9808       9809    15581115  Middleton          603    France  Female   39   \n",
       "9360       9361    15671934      Veale          552   Germany    Male   39   \n",
       "9547       9548    15682454  McFarland          626    France  Female   34   \n",
       "3218       3219    15774872     Joslin          663    France    Male   36   \n",
       "9053       9054    15604551       Robb          732    France  Female   35   \n",
       "4084       4085    15750458    Hawkins          693    France  Female   39   \n",
       "\n",
       "      Tenure    Balance  NumOfProducts  HasCrCard  IsActiveMember  \\\n",
       "7420     9.0  151766.71              1          1               1   \n",
       "6596     5.0   82559.42              2          0               0   \n",
       "7207     4.0  145222.99              2          0               0   \n",
       "1330     8.0       0.00              2          1               0   \n",
       "9808     9.0   76769.68              1          0               0   \n",
       "9360     2.0  132906.88              1          0               1   \n",
       "9547     3.0       0.00              2          1               1   \n",
       "3218    10.0       0.00              2          1               0   \n",
       "9053     3.0       0.00              2          1               0   \n",
       "4084     4.0       0.00              2          0               1   \n",
       "\n",
       "      EstimatedSalary  Exited  \n",
       "7420        180829.99       0  \n",
       "6596        163112.90       1  \n",
       "7207        145160.96       0  \n",
       "1330         89043.19       0  \n",
       "9808         48224.72       0  \n",
       "9360        149384.43       0  \n",
       "9547         37870.29       0  \n",
       "3218        136349.55       0  \n",
       "9053         90876.95       0  \n",
       "4084        142331.39       0  "
      ]
     },
     "execution_count": 4,
     "metadata": {},
     "output_type": "execute_result"
    }
   ],
   "source": [
    "#Review a sample of the data\n",
    "\n",
    "data.sample(10)"
   ]
  },
  {
   "cell_type": "markdown",
   "metadata": {},
   "source": [
    "### Feature Preparation\n",
    "\n",
    "There are 3 columns that can be dropped based on a cursory review that do not add to our ability to make an accurate prediction model."
   ]
  },
  {
   "cell_type": "code",
   "execution_count": 5,
   "metadata": {},
   "outputs": [],
   "source": [
    "#Drop unnecessary columns that have unique values instead of classification data\n",
    "data = data.drop(columns=['RowNumber', 'CustomerId', 'Surname'])"
   ]
  },
  {
   "cell_type": "markdown",
   "metadata": {},
   "source": [
    "Columns Gender and Geography need to be converted to non-string datatypes. I will use label encoding to address this."
   ]
  },
  {
   "cell_type": "code",
   "execution_count": 6,
   "metadata": {},
   "outputs": [],
   "source": [
    "from sklearn.preprocessing import OneHotEncoder"
   ]
  },
  {
   "cell_type": "code",
   "execution_count": 7,
   "metadata": {},
   "outputs": [],
   "source": [
    "data = pd.get_dummies(data, drop_first=True)"
   ]
  },
  {
   "cell_type": "markdown",
   "metadata": {},
   "source": [
    "Ran get_dummies to address variety in the Geography column which will allow my logistical regression to run more smoothly"
   ]
  },
  {
   "cell_type": "code",
   "execution_count": 8,
   "metadata": {},
   "outputs": [
    {
     "data": {
      "text/html": [
       "<div>\n",
       "<style scoped>\n",
       "    .dataframe tbody tr th:only-of-type {\n",
       "        vertical-align: middle;\n",
       "    }\n",
       "\n",
       "    .dataframe tbody tr th {\n",
       "        vertical-align: top;\n",
       "    }\n",
       "\n",
       "    .dataframe thead th {\n",
       "        text-align: right;\n",
       "    }\n",
       "</style>\n",
       "<table border=\"1\" class=\"dataframe\">\n",
       "  <thead>\n",
       "    <tr style=\"text-align: right;\">\n",
       "      <th></th>\n",
       "      <th>CreditScore</th>\n",
       "      <th>Age</th>\n",
       "      <th>Tenure</th>\n",
       "      <th>Balance</th>\n",
       "      <th>NumOfProducts</th>\n",
       "      <th>HasCrCard</th>\n",
       "      <th>IsActiveMember</th>\n",
       "      <th>EstimatedSalary</th>\n",
       "      <th>Exited</th>\n",
       "      <th>Geography_Germany</th>\n",
       "      <th>Geography_Spain</th>\n",
       "      <th>Gender_Male</th>\n",
       "    </tr>\n",
       "  </thead>\n",
       "  <tbody>\n",
       "    <tr>\n",
       "      <th>0</th>\n",
       "      <td>619</td>\n",
       "      <td>42</td>\n",
       "      <td>2.0</td>\n",
       "      <td>0.00</td>\n",
       "      <td>1</td>\n",
       "      <td>1</td>\n",
       "      <td>1</td>\n",
       "      <td>101348.88</td>\n",
       "      <td>1</td>\n",
       "      <td>0</td>\n",
       "      <td>0</td>\n",
       "      <td>0</td>\n",
       "    </tr>\n",
       "    <tr>\n",
       "      <th>1</th>\n",
       "      <td>608</td>\n",
       "      <td>41</td>\n",
       "      <td>1.0</td>\n",
       "      <td>83807.86</td>\n",
       "      <td>1</td>\n",
       "      <td>0</td>\n",
       "      <td>1</td>\n",
       "      <td>112542.58</td>\n",
       "      <td>0</td>\n",
       "      <td>0</td>\n",
       "      <td>1</td>\n",
       "      <td>0</td>\n",
       "    </tr>\n",
       "    <tr>\n",
       "      <th>2</th>\n",
       "      <td>502</td>\n",
       "      <td>42</td>\n",
       "      <td>8.0</td>\n",
       "      <td>159660.80</td>\n",
       "      <td>3</td>\n",
       "      <td>1</td>\n",
       "      <td>0</td>\n",
       "      <td>113931.57</td>\n",
       "      <td>1</td>\n",
       "      <td>0</td>\n",
       "      <td>0</td>\n",
       "      <td>0</td>\n",
       "    </tr>\n",
       "    <tr>\n",
       "      <th>3</th>\n",
       "      <td>699</td>\n",
       "      <td>39</td>\n",
       "      <td>1.0</td>\n",
       "      <td>0.00</td>\n",
       "      <td>2</td>\n",
       "      <td>0</td>\n",
       "      <td>0</td>\n",
       "      <td>93826.63</td>\n",
       "      <td>0</td>\n",
       "      <td>0</td>\n",
       "      <td>0</td>\n",
       "      <td>0</td>\n",
       "    </tr>\n",
       "    <tr>\n",
       "      <th>4</th>\n",
       "      <td>850</td>\n",
       "      <td>43</td>\n",
       "      <td>2.0</td>\n",
       "      <td>125510.82</td>\n",
       "      <td>1</td>\n",
       "      <td>1</td>\n",
       "      <td>1</td>\n",
       "      <td>79084.10</td>\n",
       "      <td>0</td>\n",
       "      <td>0</td>\n",
       "      <td>1</td>\n",
       "      <td>0</td>\n",
       "    </tr>\n",
       "    <tr>\n",
       "      <th>5</th>\n",
       "      <td>645</td>\n",
       "      <td>44</td>\n",
       "      <td>8.0</td>\n",
       "      <td>113755.78</td>\n",
       "      <td>2</td>\n",
       "      <td>1</td>\n",
       "      <td>0</td>\n",
       "      <td>149756.71</td>\n",
       "      <td>1</td>\n",
       "      <td>0</td>\n",
       "      <td>1</td>\n",
       "      <td>1</td>\n",
       "    </tr>\n",
       "    <tr>\n",
       "      <th>6</th>\n",
       "      <td>822</td>\n",
       "      <td>50</td>\n",
       "      <td>7.0</td>\n",
       "      <td>0.00</td>\n",
       "      <td>2</td>\n",
       "      <td>1</td>\n",
       "      <td>1</td>\n",
       "      <td>10062.80</td>\n",
       "      <td>0</td>\n",
       "      <td>0</td>\n",
       "      <td>0</td>\n",
       "      <td>1</td>\n",
       "    </tr>\n",
       "    <tr>\n",
       "      <th>7</th>\n",
       "      <td>376</td>\n",
       "      <td>29</td>\n",
       "      <td>4.0</td>\n",
       "      <td>115046.74</td>\n",
       "      <td>4</td>\n",
       "      <td>1</td>\n",
       "      <td>0</td>\n",
       "      <td>119346.88</td>\n",
       "      <td>1</td>\n",
       "      <td>1</td>\n",
       "      <td>0</td>\n",
       "      <td>0</td>\n",
       "    </tr>\n",
       "    <tr>\n",
       "      <th>8</th>\n",
       "      <td>501</td>\n",
       "      <td>44</td>\n",
       "      <td>4.0</td>\n",
       "      <td>142051.07</td>\n",
       "      <td>2</td>\n",
       "      <td>0</td>\n",
       "      <td>1</td>\n",
       "      <td>74940.50</td>\n",
       "      <td>0</td>\n",
       "      <td>0</td>\n",
       "      <td>0</td>\n",
       "      <td>1</td>\n",
       "    </tr>\n",
       "    <tr>\n",
       "      <th>9</th>\n",
       "      <td>684</td>\n",
       "      <td>27</td>\n",
       "      <td>2.0</td>\n",
       "      <td>134603.88</td>\n",
       "      <td>1</td>\n",
       "      <td>1</td>\n",
       "      <td>1</td>\n",
       "      <td>71725.73</td>\n",
       "      <td>0</td>\n",
       "      <td>0</td>\n",
       "      <td>0</td>\n",
       "      <td>1</td>\n",
       "    </tr>\n",
       "  </tbody>\n",
       "</table>\n",
       "</div>"
      ],
      "text/plain": [
       "   CreditScore  Age  Tenure    Balance  NumOfProducts  HasCrCard  \\\n",
       "0          619   42     2.0       0.00              1          1   \n",
       "1          608   41     1.0   83807.86              1          0   \n",
       "2          502   42     8.0  159660.80              3          1   \n",
       "3          699   39     1.0       0.00              2          0   \n",
       "4          850   43     2.0  125510.82              1          1   \n",
       "5          645   44     8.0  113755.78              2          1   \n",
       "6          822   50     7.0       0.00              2          1   \n",
       "7          376   29     4.0  115046.74              4          1   \n",
       "8          501   44     4.0  142051.07              2          0   \n",
       "9          684   27     2.0  134603.88              1          1   \n",
       "\n",
       "   IsActiveMember  EstimatedSalary  Exited  Geography_Germany  \\\n",
       "0               1        101348.88       1                  0   \n",
       "1               1        112542.58       0                  0   \n",
       "2               0        113931.57       1                  0   \n",
       "3               0         93826.63       0                  0   \n",
       "4               1         79084.10       0                  0   \n",
       "5               0        149756.71       1                  0   \n",
       "6               1         10062.80       0                  0   \n",
       "7               0        119346.88       1                  1   \n",
       "8               1         74940.50       0                  0   \n",
       "9               1         71725.73       0                  0   \n",
       "\n",
       "   Geography_Spain  Gender_Male  \n",
       "0                0            0  \n",
       "1                1            0  \n",
       "2                0            0  \n",
       "3                0            0  \n",
       "4                1            0  \n",
       "5                1            1  \n",
       "6                0            1  \n",
       "7                0            0  \n",
       "8                0            1  \n",
       "9                0            1  "
      ]
     },
     "execution_count": 8,
     "metadata": {},
     "output_type": "execute_result"
    }
   ],
   "source": [
    "data.head(10)"
   ]
  },
  {
   "cell_type": "markdown",
   "metadata": {},
   "source": [
    "<div class=\"alert alert-block alert-warning\">\n",
    "<b>Reviewer's comment</b> <a class=\"tocSkip\"></a>\n",
    "\n",
    "It's proper to make encoding right before to apply ML model. Because before ML model you don't need to it.\n",
    "\n",
    "</div>"
   ]
  },
  {
   "cell_type": "code",
   "execution_count": 9,
   "metadata": {},
   "outputs": [
    {
     "data": {
      "text/plain": [
       "CreditScore            0\n",
       "Age                    0\n",
       "Tenure               909\n",
       "Balance                0\n",
       "NumOfProducts          0\n",
       "HasCrCard              0\n",
       "IsActiveMember         0\n",
       "EstimatedSalary        0\n",
       "Exited                 0\n",
       "Geography_Germany      0\n",
       "Geography_Spain        0\n",
       "Gender_Male            0\n",
       "dtype: int64"
      ]
     },
     "execution_count": 9,
     "metadata": {},
     "output_type": "execute_result"
    }
   ],
   "source": [
    "#Check for missing values\n",
    "data.isna().sum()"
   ]
  },
  {
   "cell_type": "code",
   "execution_count": 10,
   "metadata": {},
   "outputs": [
    {
     "name": "stdout",
     "output_type": "stream",
     "text": [
      "CreditScore          0\n",
      "Age                  0\n",
      "Tenure               0\n",
      "Balance              0\n",
      "NumOfProducts        0\n",
      "HasCrCard            0\n",
      "IsActiveMember       0\n",
      "EstimatedSalary      0\n",
      "Exited               0\n",
      "Geography_Germany    0\n",
      "Geography_Spain      0\n",
      "Gender_Male          0\n",
      "dtype: int64\n",
      "<class 'pandas.core.frame.DataFrame'>\n",
      "RangeIndex: 10000 entries, 0 to 9999\n",
      "Data columns (total 12 columns):\n",
      " #   Column             Non-Null Count  Dtype  \n",
      "---  ------             --------------  -----  \n",
      " 0   CreditScore        10000 non-null  int64  \n",
      " 1   Age                10000 non-null  int64  \n",
      " 2   Tenure             10000 non-null  float64\n",
      " 3   Balance            10000 non-null  float64\n",
      " 4   NumOfProducts      10000 non-null  int64  \n",
      " 5   HasCrCard          10000 non-null  int64  \n",
      " 6   IsActiveMember     10000 non-null  int64  \n",
      " 7   EstimatedSalary    10000 non-null  float64\n",
      " 8   Exited             10000 non-null  int64  \n",
      " 9   Geography_Germany  10000 non-null  uint8  \n",
      " 10  Geography_Spain    10000 non-null  uint8  \n",
      " 11  Gender_Male        10000 non-null  uint8  \n",
      "dtypes: float64(3), int64(6), uint8(3)\n",
      "memory usage: 732.5 KB\n"
     ]
    }
   ],
   "source": [
    "#Fill missing values with mode since tenure is ordinal data\n",
    "\n",
    "data['Tenure'] = data['Tenure'].fillna(data['Tenure'].median())\n",
    "\n",
    "print(data.isna().sum())\n",
    "data.info()"
   ]
  },
  {
   "cell_type": "code",
   "execution_count": 11,
   "metadata": {},
   "outputs": [
    {
     "name": "stdout",
     "output_type": "stream",
     "text": [
      "0    7963\n",
      "1    2037\n",
      "Name: Exited, dtype: int64\n"
     ]
    }
   ],
   "source": [
    "#Check balance of target data\n",
    "\n",
    "print(data['Exited'].value_counts())"
   ]
  },
  {
   "cell_type": "markdown",
   "metadata": {},
   "source": [
    "Our Target data is imbalanced in favor of clients that have not exited the bank as clients at a ratio of about 4:1"
   ]
  },
  {
   "cell_type": "markdown",
   "metadata": {},
   "source": [
    "### Split the Data"
   ]
  },
  {
   "cell_type": "code",
   "execution_count": 12,
   "metadata": {},
   "outputs": [
    {
     "name": "stdout",
     "output_type": "stream",
     "text": [
      "Training dataset:  (6000, 12)\n",
      "Testing dataset:  (2000, 12)\n",
      "Validation dataset:  (2000, 12)\n"
     ]
    }
   ],
   "source": [
    "#First use train_test_split to create 2 df's, one is test, the other is temp df to split further into train and validation\n",
    "df_temp, df_test = train_test_split(data, test_size=0.20, random_state=315)\n",
    "\n",
    "#Then use the temp df from first function to create 2 more df's, train and validation\n",
    "df_train, df_valid = train_test_split(df_temp, test_size=0.25, random_state=315)\n",
    "\n",
    "#Verify the datasets\n",
    "print(\"Training dataset: \", df_train.shape)\n",
    "print(\"Testing dataset: \", df_test.shape)\n",
    "print(\"Validation dataset: \", df_valid.shape)"
   ]
  },
  {
   "cell_type": "code",
   "execution_count": 13,
   "metadata": {},
   "outputs": [],
   "source": [
    "#Create feature and target datasets for each\n",
    "\n",
    "#Train datasets\n",
    "features_train = df_train.drop(['Exited'], axis=1)\n",
    "target_train = df_train['Exited']\n",
    "\n",
    "#Validation datasets\n",
    "features_valid = df_valid.drop(['Exited'], axis=1)\n",
    "target_valid = df_valid['Exited']\n",
    "\n",
    "#Test datasets\n",
    "features_test = df_test.drop(['Exited'], axis=1)\n",
    "target_test = df_test['Exited']"
   ]
  },
  {
   "cell_type": "code",
   "execution_count": 14,
   "metadata": {},
   "outputs": [],
   "source": [
    "#Scale the datasets\n",
    "numeric = ['CreditScore', 'Age', 'Balance', 'NumOfProducts', 'EstimatedSalary']\n",
    "scaler = StandardScaler()\n",
    "\n",
    "\n",
    "\n",
    "# Fit on the training data\n",
    "features_train_scaler = scaler.fit_transform(features_train[numeric])\n",
    "\n",
    "# Transform the datasets\n",
    "features_valid_scaler = scaler.transform(features_valid[numeric])\n",
    "features_test_scaler = scaler.transform(features_test[numeric])"
   ]
  },
  {
   "cell_type": "code",
   "execution_count": 15,
   "metadata": {
    "scrolled": true
   },
   "outputs": [
    {
     "data": {
      "text/html": [
       "<div>\n",
       "<style scoped>\n",
       "    .dataframe tbody tr th:only-of-type {\n",
       "        vertical-align: middle;\n",
       "    }\n",
       "\n",
       "    .dataframe tbody tr th {\n",
       "        vertical-align: top;\n",
       "    }\n",
       "\n",
       "    .dataframe thead th {\n",
       "        text-align: right;\n",
       "    }\n",
       "</style>\n",
       "<table border=\"1\" class=\"dataframe\">\n",
       "  <thead>\n",
       "    <tr style=\"text-align: right;\">\n",
       "      <th></th>\n",
       "      <th>CreditScore</th>\n",
       "      <th>Age</th>\n",
       "      <th>Tenure</th>\n",
       "      <th>Balance</th>\n",
       "      <th>NumOfProducts</th>\n",
       "      <th>HasCrCard</th>\n",
       "      <th>IsActiveMember</th>\n",
       "      <th>EstimatedSalary</th>\n",
       "      <th>Exited</th>\n",
       "      <th>Geography_Germany</th>\n",
       "      <th>Geography_Spain</th>\n",
       "      <th>Gender_Male</th>\n",
       "    </tr>\n",
       "  </thead>\n",
       "  <tbody>\n",
       "    <tr>\n",
       "      <th>0</th>\n",
       "      <td>619</td>\n",
       "      <td>42</td>\n",
       "      <td>2.0</td>\n",
       "      <td>0.00</td>\n",
       "      <td>1</td>\n",
       "      <td>1</td>\n",
       "      <td>1</td>\n",
       "      <td>101348.88</td>\n",
       "      <td>1</td>\n",
       "      <td>0</td>\n",
       "      <td>0</td>\n",
       "      <td>0</td>\n",
       "    </tr>\n",
       "    <tr>\n",
       "      <th>1</th>\n",
       "      <td>608</td>\n",
       "      <td>41</td>\n",
       "      <td>1.0</td>\n",
       "      <td>83807.86</td>\n",
       "      <td>1</td>\n",
       "      <td>0</td>\n",
       "      <td>1</td>\n",
       "      <td>112542.58</td>\n",
       "      <td>0</td>\n",
       "      <td>0</td>\n",
       "      <td>1</td>\n",
       "      <td>0</td>\n",
       "    </tr>\n",
       "    <tr>\n",
       "      <th>2</th>\n",
       "      <td>502</td>\n",
       "      <td>42</td>\n",
       "      <td>8.0</td>\n",
       "      <td>159660.80</td>\n",
       "      <td>3</td>\n",
       "      <td>1</td>\n",
       "      <td>0</td>\n",
       "      <td>113931.57</td>\n",
       "      <td>1</td>\n",
       "      <td>0</td>\n",
       "      <td>0</td>\n",
       "      <td>0</td>\n",
       "    </tr>\n",
       "    <tr>\n",
       "      <th>3</th>\n",
       "      <td>699</td>\n",
       "      <td>39</td>\n",
       "      <td>1.0</td>\n",
       "      <td>0.00</td>\n",
       "      <td>2</td>\n",
       "      <td>0</td>\n",
       "      <td>0</td>\n",
       "      <td>93826.63</td>\n",
       "      <td>0</td>\n",
       "      <td>0</td>\n",
       "      <td>0</td>\n",
       "      <td>0</td>\n",
       "    </tr>\n",
       "    <tr>\n",
       "      <th>4</th>\n",
       "      <td>850</td>\n",
       "      <td>43</td>\n",
       "      <td>2.0</td>\n",
       "      <td>125510.82</td>\n",
       "      <td>1</td>\n",
       "      <td>1</td>\n",
       "      <td>1</td>\n",
       "      <td>79084.10</td>\n",
       "      <td>0</td>\n",
       "      <td>0</td>\n",
       "      <td>1</td>\n",
       "      <td>0</td>\n",
       "    </tr>\n",
       "    <tr>\n",
       "      <th>5</th>\n",
       "      <td>645</td>\n",
       "      <td>44</td>\n",
       "      <td>8.0</td>\n",
       "      <td>113755.78</td>\n",
       "      <td>2</td>\n",
       "      <td>1</td>\n",
       "      <td>0</td>\n",
       "      <td>149756.71</td>\n",
       "      <td>1</td>\n",
       "      <td>0</td>\n",
       "      <td>1</td>\n",
       "      <td>1</td>\n",
       "    </tr>\n",
       "    <tr>\n",
       "      <th>6</th>\n",
       "      <td>822</td>\n",
       "      <td>50</td>\n",
       "      <td>7.0</td>\n",
       "      <td>0.00</td>\n",
       "      <td>2</td>\n",
       "      <td>1</td>\n",
       "      <td>1</td>\n",
       "      <td>10062.80</td>\n",
       "      <td>0</td>\n",
       "      <td>0</td>\n",
       "      <td>0</td>\n",
       "      <td>1</td>\n",
       "    </tr>\n",
       "    <tr>\n",
       "      <th>7</th>\n",
       "      <td>376</td>\n",
       "      <td>29</td>\n",
       "      <td>4.0</td>\n",
       "      <td>115046.74</td>\n",
       "      <td>4</td>\n",
       "      <td>1</td>\n",
       "      <td>0</td>\n",
       "      <td>119346.88</td>\n",
       "      <td>1</td>\n",
       "      <td>1</td>\n",
       "      <td>0</td>\n",
       "      <td>0</td>\n",
       "    </tr>\n",
       "    <tr>\n",
       "      <th>8</th>\n",
       "      <td>501</td>\n",
       "      <td>44</td>\n",
       "      <td>4.0</td>\n",
       "      <td>142051.07</td>\n",
       "      <td>2</td>\n",
       "      <td>0</td>\n",
       "      <td>1</td>\n",
       "      <td>74940.50</td>\n",
       "      <td>0</td>\n",
       "      <td>0</td>\n",
       "      <td>0</td>\n",
       "      <td>1</td>\n",
       "    </tr>\n",
       "    <tr>\n",
       "      <th>9</th>\n",
       "      <td>684</td>\n",
       "      <td>27</td>\n",
       "      <td>2.0</td>\n",
       "      <td>134603.88</td>\n",
       "      <td>1</td>\n",
       "      <td>1</td>\n",
       "      <td>1</td>\n",
       "      <td>71725.73</td>\n",
       "      <td>0</td>\n",
       "      <td>0</td>\n",
       "      <td>0</td>\n",
       "      <td>1</td>\n",
       "    </tr>\n",
       "    <tr>\n",
       "      <th>10</th>\n",
       "      <td>528</td>\n",
       "      <td>31</td>\n",
       "      <td>6.0</td>\n",
       "      <td>102016.72</td>\n",
       "      <td>2</td>\n",
       "      <td>0</td>\n",
       "      <td>0</td>\n",
       "      <td>80181.12</td>\n",
       "      <td>0</td>\n",
       "      <td>0</td>\n",
       "      <td>0</td>\n",
       "      <td>1</td>\n",
       "    </tr>\n",
       "    <tr>\n",
       "      <th>11</th>\n",
       "      <td>497</td>\n",
       "      <td>24</td>\n",
       "      <td>3.0</td>\n",
       "      <td>0.00</td>\n",
       "      <td>2</td>\n",
       "      <td>1</td>\n",
       "      <td>0</td>\n",
       "      <td>76390.01</td>\n",
       "      <td>0</td>\n",
       "      <td>0</td>\n",
       "      <td>1</td>\n",
       "      <td>1</td>\n",
       "    </tr>\n",
       "    <tr>\n",
       "      <th>12</th>\n",
       "      <td>476</td>\n",
       "      <td>34</td>\n",
       "      <td>10.0</td>\n",
       "      <td>0.00</td>\n",
       "      <td>2</td>\n",
       "      <td>1</td>\n",
       "      <td>0</td>\n",
       "      <td>26260.98</td>\n",
       "      <td>0</td>\n",
       "      <td>0</td>\n",
       "      <td>0</td>\n",
       "      <td>0</td>\n",
       "    </tr>\n",
       "    <tr>\n",
       "      <th>13</th>\n",
       "      <td>549</td>\n",
       "      <td>25</td>\n",
       "      <td>5.0</td>\n",
       "      <td>0.00</td>\n",
       "      <td>2</td>\n",
       "      <td>0</td>\n",
       "      <td>0</td>\n",
       "      <td>190857.79</td>\n",
       "      <td>0</td>\n",
       "      <td>0</td>\n",
       "      <td>0</td>\n",
       "      <td>0</td>\n",
       "    </tr>\n",
       "    <tr>\n",
       "      <th>14</th>\n",
       "      <td>635</td>\n",
       "      <td>35</td>\n",
       "      <td>7.0</td>\n",
       "      <td>0.00</td>\n",
       "      <td>2</td>\n",
       "      <td>1</td>\n",
       "      <td>1</td>\n",
       "      <td>65951.65</td>\n",
       "      <td>0</td>\n",
       "      <td>0</td>\n",
       "      <td>1</td>\n",
       "      <td>0</td>\n",
       "    </tr>\n",
       "    <tr>\n",
       "      <th>15</th>\n",
       "      <td>616</td>\n",
       "      <td>45</td>\n",
       "      <td>3.0</td>\n",
       "      <td>143129.41</td>\n",
       "      <td>2</td>\n",
       "      <td>0</td>\n",
       "      <td>1</td>\n",
       "      <td>64327.26</td>\n",
       "      <td>0</td>\n",
       "      <td>1</td>\n",
       "      <td>0</td>\n",
       "      <td>1</td>\n",
       "    </tr>\n",
       "    <tr>\n",
       "      <th>16</th>\n",
       "      <td>653</td>\n",
       "      <td>58</td>\n",
       "      <td>1.0</td>\n",
       "      <td>132602.88</td>\n",
       "      <td>1</td>\n",
       "      <td>1</td>\n",
       "      <td>0</td>\n",
       "      <td>5097.67</td>\n",
       "      <td>1</td>\n",
       "      <td>1</td>\n",
       "      <td>0</td>\n",
       "      <td>1</td>\n",
       "    </tr>\n",
       "    <tr>\n",
       "      <th>17</th>\n",
       "      <td>549</td>\n",
       "      <td>24</td>\n",
       "      <td>9.0</td>\n",
       "      <td>0.00</td>\n",
       "      <td>2</td>\n",
       "      <td>1</td>\n",
       "      <td>1</td>\n",
       "      <td>14406.41</td>\n",
       "      <td>0</td>\n",
       "      <td>0</td>\n",
       "      <td>1</td>\n",
       "      <td>0</td>\n",
       "    </tr>\n",
       "    <tr>\n",
       "      <th>18</th>\n",
       "      <td>587</td>\n",
       "      <td>45</td>\n",
       "      <td>6.0</td>\n",
       "      <td>0.00</td>\n",
       "      <td>1</td>\n",
       "      <td>0</td>\n",
       "      <td>0</td>\n",
       "      <td>158684.81</td>\n",
       "      <td>0</td>\n",
       "      <td>0</td>\n",
       "      <td>1</td>\n",
       "      <td>1</td>\n",
       "    </tr>\n",
       "    <tr>\n",
       "      <th>19</th>\n",
       "      <td>726</td>\n",
       "      <td>24</td>\n",
       "      <td>6.0</td>\n",
       "      <td>0.00</td>\n",
       "      <td>2</td>\n",
       "      <td>1</td>\n",
       "      <td>1</td>\n",
       "      <td>54724.03</td>\n",
       "      <td>0</td>\n",
       "      <td>0</td>\n",
       "      <td>0</td>\n",
       "      <td>0</td>\n",
       "    </tr>\n",
       "  </tbody>\n",
       "</table>\n",
       "</div>"
      ],
      "text/plain": [
       "    CreditScore  Age  Tenure    Balance  NumOfProducts  HasCrCard  \\\n",
       "0           619   42     2.0       0.00              1          1   \n",
       "1           608   41     1.0   83807.86              1          0   \n",
       "2           502   42     8.0  159660.80              3          1   \n",
       "3           699   39     1.0       0.00              2          0   \n",
       "4           850   43     2.0  125510.82              1          1   \n",
       "5           645   44     8.0  113755.78              2          1   \n",
       "6           822   50     7.0       0.00              2          1   \n",
       "7           376   29     4.0  115046.74              4          1   \n",
       "8           501   44     4.0  142051.07              2          0   \n",
       "9           684   27     2.0  134603.88              1          1   \n",
       "10          528   31     6.0  102016.72              2          0   \n",
       "11          497   24     3.0       0.00              2          1   \n",
       "12          476   34    10.0       0.00              2          1   \n",
       "13          549   25     5.0       0.00              2          0   \n",
       "14          635   35     7.0       0.00              2          1   \n",
       "15          616   45     3.0  143129.41              2          0   \n",
       "16          653   58     1.0  132602.88              1          1   \n",
       "17          549   24     9.0       0.00              2          1   \n",
       "18          587   45     6.0       0.00              1          0   \n",
       "19          726   24     6.0       0.00              2          1   \n",
       "\n",
       "    IsActiveMember  EstimatedSalary  Exited  Geography_Germany  \\\n",
       "0                1        101348.88       1                  0   \n",
       "1                1        112542.58       0                  0   \n",
       "2                0        113931.57       1                  0   \n",
       "3                0         93826.63       0                  0   \n",
       "4                1         79084.10       0                  0   \n",
       "5                0        149756.71       1                  0   \n",
       "6                1         10062.80       0                  0   \n",
       "7                0        119346.88       1                  1   \n",
       "8                1         74940.50       0                  0   \n",
       "9                1         71725.73       0                  0   \n",
       "10               0         80181.12       0                  0   \n",
       "11               0         76390.01       0                  0   \n",
       "12               0         26260.98       0                  0   \n",
       "13               0        190857.79       0                  0   \n",
       "14               1         65951.65       0                  0   \n",
       "15               1         64327.26       0                  1   \n",
       "16               0          5097.67       1                  1   \n",
       "17               1         14406.41       0                  0   \n",
       "18               0        158684.81       0                  0   \n",
       "19               1         54724.03       0                  0   \n",
       "\n",
       "    Geography_Spain  Gender_Male  \n",
       "0                 0            0  \n",
       "1                 1            0  \n",
       "2                 0            0  \n",
       "3                 0            0  \n",
       "4                 1            0  \n",
       "5                 1            1  \n",
       "6                 0            1  \n",
       "7                 0            0  \n",
       "8                 0            1  \n",
       "9                 0            1  \n",
       "10                0            1  \n",
       "11                1            1  \n",
       "12                0            0  \n",
       "13                0            0  \n",
       "14                1            0  \n",
       "15                0            1  \n",
       "16                0            1  \n",
       "17                1            0  \n",
       "18                1            1  \n",
       "19                0            0  "
      ]
     },
     "execution_count": 15,
     "metadata": {},
     "output_type": "execute_result"
    }
   ],
   "source": [
    "data.head(20)"
   ]
  },
  {
   "cell_type": "markdown",
   "metadata": {},
   "source": [
    "## Train Models"
   ]
  },
  {
   "cell_type": "code",
   "execution_count": 16,
   "metadata": {},
   "outputs": [
    {
     "name": "stdout",
     "output_type": "stream",
     "text": [
      "Initial Models F1 Scores\n",
      "\n",
      "Decision Tree F1 Score: 50.06075334143378\n",
      "Random Forest F1 Score: 59.45121951219512\n",
      "Logistic Regression F1 Score: 9.271523178807946\n",
      "\n",
      "Initial Models AUC-ROC Scores\n",
      "\n",
      "Decision Tree: 69.04419099241527\n",
      "Random Forest: 84.51590035069229\n",
      "Logistic Regression: 65.25072302837533\n"
     ]
    }
   ],
   "source": [
    "#Train inital decision tree model\n",
    "decision_tree = DecisionTreeClassifier(random_state=315)\n",
    "decision_tree.fit(features_train, target_train)\n",
    "dt_predicted_valid = decision_tree.predict(features_valid)\n",
    "\n",
    "#Train initial random forest model\n",
    "random_forest = RandomForestClassifier(random_state=315)\n",
    "random_forest.fit(features_train, target_train)\n",
    "rf_predicted_valid = random_forest.predict(features_valid)\n",
    "\n",
    "#Train initial logistic regression using solver='liblinear' hyperparamter\n",
    "logistic_regression = LogisticRegression(random_state=315, solver='liblinear') \n",
    "logistic_regression.fit(features_train, target_train)\n",
    "lr_predicted_valid = logistic_regression.predict(features_valid)\n",
    "\n",
    "#Initial F1 scores\n",
    "#Decision Tree\n",
    "print(\"Initial Models F1 Scores\")\n",
    "print()\n",
    "print(\"Decision Tree F1 Score:\", f1_score(target_valid, dt_predicted_valid)*100)\n",
    "\n",
    "#Random Forest\n",
    "print(\"Random Forest F1 Score:\", f1_score(target_valid, rf_predicted_valid)*100)\n",
    "\n",
    "#Logistic Regression\n",
    "print(\"Logistic Regression F1 Score:\", f1_score(target_valid, lr_predicted_valid)*100)\n",
    "\n",
    "#Initial AUC-ROC metric\n",
    "#Decision Tree\n",
    "\n",
    "probabilities_valid_dt = decision_tree.predict_proba(features_valid)\n",
    "probabilities_one_valid_dt = probabilities_valid_dt[:, 1]\n",
    "\n",
    "auc_roc_dt = roc_auc_score(target_valid, probabilities_one_valid_dt)\n",
    "\n",
    "#Random Forest\n",
    "\n",
    "probabilities_valid_rf = random_forest.predict_proba(features_valid)\n",
    "probabilities_one_valid_rf = probabilities_valid_rf[:, 1]\n",
    "\n",
    "auc_roc_rf = roc_auc_score(target_valid, probabilities_one_valid_rf)\n",
    "\n",
    "#Logistic Regression\n",
    "\n",
    "probabilities_valid_lr = logistic_regression.predict_proba(features_valid)\n",
    "probabilities_one_valid_lr = probabilities_valid_lr[:, 1]\n",
    "\n",
    "auc_roc_lr = roc_auc_score(target_valid, probabilities_one_valid_lr)\n",
    "\n",
    "print()\n",
    "print(\"Initial Models AUC-ROC Scores\")\n",
    "print()\n",
    "print(\"Decision Tree:\", auc_roc_dt*100)\n",
    "print(\"Random Forest:\", auc_roc_rf*100)\n",
    "print(\"Logistic Regression:\", auc_roc_lr*100)"
   ]
  },
  {
   "cell_type": "markdown",
   "metadata": {},
   "source": [
    "In our initial models not accounting for any class imbalance we see a breakdown of our 3 models with F1 scores and AUG-ROC scores. Initially it looks like Random Forrest model is our strongest model having an F1 score almost at 0.59 already"
   ]
  },
  {
   "cell_type": "markdown",
   "metadata": {},
   "source": [
    "## Improve quality of the model"
   ]
  },
  {
   "cell_type": "markdown",
   "metadata": {},
   "source": [
    "Based on the last section of this project, I will be moving forward with the Random Forrest model as my main model of choice. Next we will improve the models F1 score using various methods.\n",
    "\n",
    "1. Address weight class imbalance"
   ]
  },
  {
   "cell_type": "code",
   "execution_count": 17,
   "metadata": {},
   "outputs": [
    {
     "name": "stdout",
     "output_type": "stream",
     "text": [
      "Random Forest F1 Score: 58.34633385335414\n"
     ]
    }
   ],
   "source": [
    "#Random Forest\n",
    "random_forest_balanced1 = RandomForestClassifier(class_weight='balanced', random_state=315)\n",
    "random_forest_balanced1.fit(features_train, target_train)\n",
    "rf_balanced1_predicted_valid = random_forest_balanced1.predict(features_valid)\n",
    "\n",
    "print(\"Random Forest F1 Score:\", f1_score(target_valid, rf_balanced1_predicted_valid)*100)\n"
   ]
  },
  {
   "cell_type": "markdown",
   "metadata": {},
   "source": [
    "Our initial method did not improve our F1 score and in fact had a negative impact on our Random Forrest Model"
   ]
  },
  {
   "cell_type": "markdown",
   "metadata": {},
   "source": [
    "2. Upsampling - we will artificially increase the instances of our minority class (Exited = 1)"
   ]
  },
  {
   "cell_type": "code",
   "execution_count": 18,
   "metadata": {},
   "outputs": [],
   "source": [
    "train_data = pd.concat([features_train, target_train], axis=1)\n",
    "\n",
    "#Define the majority and minority target data\n",
    "majority_class = train_data[train_data.Exited == 0]\n",
    "minority_class = train_data[train_data.Exited == 1]\n",
    "\n",
    "#Upsample the minority data\n",
    "minority_upsampled = resample(minority_class, \n",
    "                              replace=True, \n",
    "                              n_samples=len(majority_class), \n",
    "                              random_state=315)\n",
    "\n",
    "#Combine the upsampled minority data with the majority data\n",
    "upsampled_train = pd.concat([majority_class, minority_upsampled])\n",
    "\n",
    "# Separate features and target data\n",
    "features_upsampled = upsampled_train.drop('Exited', axis=1)\n",
    "target_upsampled = upsampled_train['Exited']"
   ]
  },
  {
   "cell_type": "code",
   "execution_count": 19,
   "metadata": {},
   "outputs": [
    {
     "name": "stdout",
     "output_type": "stream",
     "text": [
      "Random Forest F1: 61.13416320885201\n"
     ]
    }
   ],
   "source": [
    "random_forest_2 = RandomForestClassifier(random_state=315)\n",
    "random_forest_2.fit(features_upsampled, target_upsampled)\n",
    "rf_balanced2_predicted_valid = random_forest_2.predict(features_valid)\n",
    "\n",
    "print('Random Forest F1:', f1_score(target_valid, rf_balanced2_predicted_valid)*100)"
   ]
  },
  {
   "cell_type": "markdown",
   "metadata": {},
   "source": [
    "Our second technique improved our F1 score for Random Forest to F1= 60.94 which meets our target goal. "
   ]
  },
  {
   "cell_type": "code",
   "execution_count": 20,
   "metadata": {},
   "outputs": [],
   "source": [
    "from sklearn.model_selection import RandomizedSearchCV\n",
    "from sklearn.ensemble import RandomForestClassifier"
   ]
  },
  {
   "cell_type": "code",
   "execution_count": 22,
   "metadata": {},
   "outputs": [
    {
     "name": "stdout",
     "output_type": "stream",
     "text": [
      "Fitting 3 folds for each of 100 candidates, totalling 300 fits\n",
      "[CV] END bootstrap=True, max_depth=30, max_features=auto, min_samples_leaf=1, min_samples_split=5, n_estimators=100; total time=   0.0s\n",
      "[CV] END bootstrap=True, max_depth=30, max_features=auto, min_samples_leaf=1, min_samples_split=5, n_estimators=100; total time=   0.0s\n",
      "[CV] END bootstrap=True, max_depth=30, max_features=auto, min_samples_leaf=1, min_samples_split=5, n_estimators=100; total time=   0.0s\n",
      "[CV] END bootstrap=False, max_depth=30, max_features=auto, min_samples_leaf=4, min_samples_split=5, n_estimators=100; total time=   0.0s\n",
      "[CV] END bootstrap=False, max_depth=30, max_features=auto, min_samples_leaf=4, min_samples_split=5, n_estimators=100; total time=   0.0s\n",
      "[CV] END bootstrap=False, max_depth=30, max_features=auto, min_samples_leaf=4, min_samples_split=5, n_estimators=100; total time=   0.0s\n",
      "[CV] END bootstrap=True, max_depth=20, max_features=log2, min_samples_leaf=2, min_samples_split=2, n_estimators=200; total time=   0.8s\n",
      "[CV] END bootstrap=True, max_depth=20, max_features=log2, min_samples_leaf=2, min_samples_split=2, n_estimators=200; total time=   0.8s\n",
      "[CV] END bootstrap=True, max_depth=20, max_features=log2, min_samples_leaf=2, min_samples_split=2, n_estimators=200; total time=   0.8s\n",
      "[CV] END bootstrap=True, max_depth=30, max_features=sqrt, min_samples_leaf=4, min_samples_split=2, n_estimators=200; total time=   0.7s\n",
      "[CV] END bootstrap=True, max_depth=30, max_features=sqrt, min_samples_leaf=4, min_samples_split=2, n_estimators=200; total time=   0.7s\n",
      "[CV] END bootstrap=True, max_depth=30, max_features=sqrt, min_samples_leaf=4, min_samples_split=2, n_estimators=200; total time=   0.7s\n",
      "[CV] END bootstrap=False, max_depth=10, max_features=sqrt, min_samples_leaf=4, min_samples_split=10, n_estimators=100; total time=   0.5s\n",
      "[CV] END bootstrap=False, max_depth=10, max_features=sqrt, min_samples_leaf=4, min_samples_split=10, n_estimators=100; total time=   0.5s\n",
      "[CV] END bootstrap=False, max_depth=10, max_features=sqrt, min_samples_leaf=4, min_samples_split=10, n_estimators=100; total time=   0.5s\n",
      "[CV] END bootstrap=False, max_depth=40, max_features=log2, min_samples_leaf=2, min_samples_split=5, n_estimators=100; total time=   0.6s\n",
      "[CV] END bootstrap=False, max_depth=40, max_features=log2, min_samples_leaf=2, min_samples_split=5, n_estimators=100; total time=   0.6s\n",
      "[CV] END bootstrap=False, max_depth=40, max_features=log2, min_samples_leaf=2, min_samples_split=5, n_estimators=100; total time=   0.6s\n",
      "[CV] END bootstrap=True, max_depth=20, max_features=sqrt, min_samples_leaf=2, min_samples_split=2, n_estimators=50; total time=   0.2s\n",
      "[CV] END bootstrap=True, max_depth=20, max_features=sqrt, min_samples_leaf=2, min_samples_split=2, n_estimators=50; total time=   0.2s\n",
      "[CV] END bootstrap=True, max_depth=20, max_features=sqrt, min_samples_leaf=2, min_samples_split=2, n_estimators=50; total time=   0.2s\n",
      "[CV] END bootstrap=False, max_depth=20, max_features=sqrt, min_samples_leaf=1, min_samples_split=2, n_estimators=200; total time=   1.2s\n",
      "[CV] END bootstrap=False, max_depth=20, max_features=sqrt, min_samples_leaf=1, min_samples_split=2, n_estimators=200; total time=   1.1s\n",
      "[CV] END bootstrap=False, max_depth=20, max_features=sqrt, min_samples_leaf=1, min_samples_split=2, n_estimators=200; total time=   1.2s\n",
      "[CV] END bootstrap=True, max_depth=30, max_features=log2, min_samples_leaf=4, min_samples_split=5, n_estimators=100; total time=   0.4s\n",
      "[CV] END bootstrap=True, max_depth=30, max_features=log2, min_samples_leaf=4, min_samples_split=5, n_estimators=100; total time=   0.4s\n",
      "[CV] END bootstrap=True, max_depth=30, max_features=log2, min_samples_leaf=4, min_samples_split=5, n_estimators=100; total time=   0.4s\n",
      "[CV] END bootstrap=False, max_depth=20, max_features=auto, min_samples_leaf=1, min_samples_split=2, n_estimators=200; total time=   0.0s\n",
      "[CV] END bootstrap=False, max_depth=20, max_features=auto, min_samples_leaf=1, min_samples_split=2, n_estimators=200; total time=   0.0s\n",
      "[CV] END bootstrap=False, max_depth=20, max_features=auto, min_samples_leaf=1, min_samples_split=2, n_estimators=200; total time=   0.0s\n",
      "[CV] END bootstrap=True, max_depth=None, max_features=log2, min_samples_leaf=2, min_samples_split=5, n_estimators=50; total time=   0.2s\n",
      "[CV] END bootstrap=True, max_depth=None, max_features=log2, min_samples_leaf=2, min_samples_split=5, n_estimators=50; total time=   0.2s\n",
      "[CV] END bootstrap=True, max_depth=None, max_features=log2, min_samples_leaf=2, min_samples_split=5, n_estimators=50; total time=   0.2s\n",
      "[CV] END bootstrap=True, max_depth=20, max_features=log2, min_samples_leaf=2, min_samples_split=10, n_estimators=50; total time=   0.2s\n",
      "[CV] END bootstrap=True, max_depth=20, max_features=log2, min_samples_leaf=2, min_samples_split=10, n_estimators=50; total time=   0.2s\n",
      "[CV] END bootstrap=True, max_depth=20, max_features=log2, min_samples_leaf=2, min_samples_split=10, n_estimators=50; total time=   0.2s\n",
      "[CV] END bootstrap=False, max_depth=None, max_features=sqrt, min_samples_leaf=1, min_samples_split=10, n_estimators=200; total time=   1.1s\n",
      "[CV] END bootstrap=False, max_depth=None, max_features=sqrt, min_samples_leaf=1, min_samples_split=10, n_estimators=200; total time=   1.1s\n",
      "[CV] END bootstrap=False, max_depth=None, max_features=sqrt, min_samples_leaf=1, min_samples_split=10, n_estimators=200; total time=   1.1s\n",
      "[CV] END bootstrap=False, max_depth=40, max_features=log2, min_samples_leaf=4, min_samples_split=5, n_estimators=200; total time=   1.1s\n",
      "[CV] END bootstrap=False, max_depth=40, max_features=log2, min_samples_leaf=4, min_samples_split=5, n_estimators=200; total time=   1.0s\n",
      "[CV] END bootstrap=False, max_depth=40, max_features=log2, min_samples_leaf=4, min_samples_split=5, n_estimators=200; total time=   1.0s\n",
      "[CV] END bootstrap=True, max_depth=30, max_features=auto, min_samples_leaf=2, min_samples_split=10, n_estimators=100; total time=   0.0s\n",
      "[CV] END bootstrap=True, max_depth=30, max_features=auto, min_samples_leaf=2, min_samples_split=10, n_estimators=100; total time=   0.0s\n",
      "[CV] END bootstrap=True, max_depth=30, max_features=auto, min_samples_leaf=2, min_samples_split=10, n_estimators=100; total time=   0.0s\n",
      "[CV] END bootstrap=False, max_depth=None, max_features=auto, min_samples_leaf=4, min_samples_split=5, n_estimators=50; total time=   0.0s\n",
      "[CV] END bootstrap=False, max_depth=None, max_features=auto, min_samples_leaf=4, min_samples_split=5, n_estimators=50; total time=   0.0s\n",
      "[CV] END bootstrap=False, max_depth=None, max_features=auto, min_samples_leaf=4, min_samples_split=5, n_estimators=50; total time=   0.0s\n",
      "[CV] END bootstrap=True, max_depth=30, max_features=log2, min_samples_leaf=2, min_samples_split=10, n_estimators=200; total time=   0.7s\n",
      "[CV] END bootstrap=True, max_depth=30, max_features=log2, min_samples_leaf=2, min_samples_split=10, n_estimators=200; total time=   0.7s\n",
      "[CV] END bootstrap=True, max_depth=30, max_features=log2, min_samples_leaf=2, min_samples_split=10, n_estimators=200; total time=   0.8s\n",
      "[CV] END bootstrap=True, max_depth=10, max_features=sqrt, min_samples_leaf=1, min_samples_split=2, n_estimators=100; total time=   0.4s\n",
      "[CV] END bootstrap=True, max_depth=10, max_features=sqrt, min_samples_leaf=1, min_samples_split=2, n_estimators=100; total time=   0.4s\n",
      "[CV] END bootstrap=True, max_depth=10, max_features=sqrt, min_samples_leaf=1, min_samples_split=2, n_estimators=100; total time=   0.4s\n",
      "[CV] END bootstrap=True, max_depth=40, max_features=log2, min_samples_leaf=1, min_samples_split=5, n_estimators=200; total time=   0.8s\n",
      "[CV] END bootstrap=True, max_depth=40, max_features=log2, min_samples_leaf=1, min_samples_split=5, n_estimators=200; total time=   0.8s\n",
      "[CV] END bootstrap=True, max_depth=40, max_features=log2, min_samples_leaf=1, min_samples_split=5, n_estimators=200; total time=   0.8s\n",
      "[CV] END bootstrap=False, max_depth=10, max_features=sqrt, min_samples_leaf=4, min_samples_split=2, n_estimators=50; total time=   0.2s\n",
      "[CV] END bootstrap=False, max_depth=10, max_features=sqrt, min_samples_leaf=4, min_samples_split=2, n_estimators=50; total time=   0.2s\n",
      "[CV] END bootstrap=False, max_depth=10, max_features=sqrt, min_samples_leaf=4, min_samples_split=2, n_estimators=50; total time=   0.2s\n"
     ]
    },
    {
     "name": "stdout",
     "output_type": "stream",
     "text": [
      "[CV] END bootstrap=True, max_depth=10, max_features=log2, min_samples_leaf=1, min_samples_split=5, n_estimators=100; total time=   0.4s\n",
      "[CV] END bootstrap=True, max_depth=10, max_features=log2, min_samples_leaf=1, min_samples_split=5, n_estimators=100; total time=   0.4s\n",
      "[CV] END bootstrap=True, max_depth=10, max_features=log2, min_samples_leaf=1, min_samples_split=5, n_estimators=100; total time=   0.4s\n",
      "[CV] END bootstrap=True, max_depth=None, max_features=log2, min_samples_leaf=2, min_samples_split=5, n_estimators=100; total time=   0.4s\n",
      "[CV] END bootstrap=True, max_depth=None, max_features=log2, min_samples_leaf=2, min_samples_split=5, n_estimators=100; total time=   0.4s\n",
      "[CV] END bootstrap=True, max_depth=None, max_features=log2, min_samples_leaf=2, min_samples_split=5, n_estimators=100; total time=   0.4s\n",
      "[CV] END bootstrap=True, max_depth=40, max_features=sqrt, min_samples_leaf=1, min_samples_split=2, n_estimators=100; total time=   0.4s\n",
      "[CV] END bootstrap=True, max_depth=40, max_features=sqrt, min_samples_leaf=1, min_samples_split=2, n_estimators=100; total time=   0.5s\n",
      "[CV] END bootstrap=True, max_depth=40, max_features=sqrt, min_samples_leaf=1, min_samples_split=2, n_estimators=100; total time=   0.4s\n",
      "[CV] END bootstrap=True, max_depth=40, max_features=sqrt, min_samples_leaf=1, min_samples_split=5, n_estimators=200; total time=   0.8s\n",
      "[CV] END bootstrap=True, max_depth=40, max_features=sqrt, min_samples_leaf=1, min_samples_split=5, n_estimators=200; total time=   0.8s\n",
      "[CV] END bootstrap=True, max_depth=40, max_features=sqrt, min_samples_leaf=1, min_samples_split=5, n_estimators=200; total time=   0.8s\n",
      "[CV] END bootstrap=True, max_depth=None, max_features=sqrt, min_samples_leaf=2, min_samples_split=5, n_estimators=50; total time=   0.2s\n",
      "[CV] END bootstrap=True, max_depth=None, max_features=sqrt, min_samples_leaf=2, min_samples_split=5, n_estimators=50; total time=   0.2s\n",
      "[CV] END bootstrap=True, max_depth=None, max_features=sqrt, min_samples_leaf=2, min_samples_split=5, n_estimators=50; total time=   0.2s\n",
      "[CV] END bootstrap=True, max_depth=None, max_features=sqrt, min_samples_leaf=1, min_samples_split=5, n_estimators=50; total time=   0.2s\n",
      "[CV] END bootstrap=True, max_depth=None, max_features=sqrt, min_samples_leaf=1, min_samples_split=5, n_estimators=50; total time=   0.2s\n",
      "[CV] END bootstrap=True, max_depth=None, max_features=sqrt, min_samples_leaf=1, min_samples_split=5, n_estimators=50; total time=   0.2s\n",
      "[CV] END bootstrap=False, max_depth=30, max_features=log2, min_samples_leaf=4, min_samples_split=10, n_estimators=200; total time=   1.1s\n",
      "[CV] END bootstrap=False, max_depth=30, max_features=log2, min_samples_leaf=4, min_samples_split=10, n_estimators=200; total time=   1.1s\n",
      "[CV] END bootstrap=False, max_depth=30, max_features=log2, min_samples_leaf=4, min_samples_split=10, n_estimators=200; total time=   1.0s\n",
      "[CV] END bootstrap=True, max_depth=20, max_features=sqrt, min_samples_leaf=4, min_samples_split=2, n_estimators=100; total time=   0.4s\n",
      "[CV] END bootstrap=True, max_depth=20, max_features=sqrt, min_samples_leaf=4, min_samples_split=2, n_estimators=100; total time=   0.4s\n",
      "[CV] END bootstrap=True, max_depth=20, max_features=sqrt, min_samples_leaf=4, min_samples_split=2, n_estimators=100; total time=   0.4s\n",
      "[CV] END bootstrap=True, max_depth=20, max_features=sqrt, min_samples_leaf=4, min_samples_split=2, n_estimators=200; total time=   0.7s\n",
      "[CV] END bootstrap=True, max_depth=20, max_features=sqrt, min_samples_leaf=4, min_samples_split=2, n_estimators=200; total time=   0.7s\n",
      "[CV] END bootstrap=True, max_depth=20, max_features=sqrt, min_samples_leaf=4, min_samples_split=2, n_estimators=200; total time=   0.7s\n",
      "[CV] END bootstrap=True, max_depth=None, max_features=log2, min_samples_leaf=4, min_samples_split=10, n_estimators=50; total time=   0.2s\n",
      "[CV] END bootstrap=True, max_depth=None, max_features=log2, min_samples_leaf=4, min_samples_split=10, n_estimators=50; total time=   0.2s\n",
      "[CV] END bootstrap=True, max_depth=None, max_features=log2, min_samples_leaf=4, min_samples_split=10, n_estimators=50; total time=   0.2s\n",
      "[CV] END bootstrap=False, max_depth=30, max_features=auto, min_samples_leaf=2, min_samples_split=2, n_estimators=50; total time=   0.0s\n",
      "[CV] END bootstrap=False, max_depth=30, max_features=auto, min_samples_leaf=2, min_samples_split=2, n_estimators=50; total time=   0.0s\n",
      "[CV] END bootstrap=False, max_depth=30, max_features=auto, min_samples_leaf=2, min_samples_split=2, n_estimators=50; total time=   0.0s\n",
      "[CV] END bootstrap=False, max_depth=30, max_features=sqrt, min_samples_leaf=1, min_samples_split=5, n_estimators=200; total time=   1.1s\n",
      "[CV] END bootstrap=False, max_depth=30, max_features=sqrt, min_samples_leaf=1, min_samples_split=5, n_estimators=200; total time=   1.1s\n",
      "[CV] END bootstrap=False, max_depth=30, max_features=sqrt, min_samples_leaf=1, min_samples_split=5, n_estimators=200; total time=   1.1s\n",
      "[CV] END bootstrap=False, max_depth=30, max_features=auto, min_samples_leaf=4, min_samples_split=5, n_estimators=200; total time=   0.0s\n",
      "[CV] END bootstrap=False, max_depth=30, max_features=auto, min_samples_leaf=4, min_samples_split=5, n_estimators=200; total time=   0.0s\n",
      "[CV] END bootstrap=False, max_depth=30, max_features=auto, min_samples_leaf=4, min_samples_split=5, n_estimators=200; total time=   0.0s\n",
      "[CV] END bootstrap=False, max_depth=30, max_features=log2, min_samples_leaf=4, min_samples_split=5, n_estimators=100; total time=   0.5s\n",
      "[CV] END bootstrap=False, max_depth=30, max_features=log2, min_samples_leaf=4, min_samples_split=5, n_estimators=100; total time=   0.5s\n",
      "[CV] END bootstrap=False, max_depth=30, max_features=log2, min_samples_leaf=4, min_samples_split=5, n_estimators=100; total time=   0.5s\n",
      "[CV] END bootstrap=False, max_depth=30, max_features=log2, min_samples_leaf=1, min_samples_split=2, n_estimators=200; total time=   1.2s\n",
      "[CV] END bootstrap=False, max_depth=30, max_features=log2, min_samples_leaf=1, min_samples_split=2, n_estimators=200; total time=   1.1s\n",
      "[CV] END bootstrap=False, max_depth=30, max_features=log2, min_samples_leaf=1, min_samples_split=2, n_estimators=200; total time=   1.2s\n",
      "[CV] END bootstrap=True, max_depth=None, max_features=auto, min_samples_leaf=4, min_samples_split=5, n_estimators=200; total time=   0.0s\n",
      "[CV] END bootstrap=True, max_depth=None, max_features=auto, min_samples_leaf=4, min_samples_split=5, n_estimators=200; total time=   0.0s\n",
      "[CV] END bootstrap=True, max_depth=None, max_features=auto, min_samples_leaf=4, min_samples_split=5, n_estimators=200; total time=   0.0s\n",
      "[CV] END bootstrap=True, max_depth=40, max_features=sqrt, min_samples_leaf=1, min_samples_split=2, n_estimators=50; total time=   0.2s\n",
      "[CV] END bootstrap=True, max_depth=40, max_features=sqrt, min_samples_leaf=1, min_samples_split=2, n_estimators=50; total time=   0.2s\n",
      "[CV] END bootstrap=True, max_depth=40, max_features=sqrt, min_samples_leaf=1, min_samples_split=2, n_estimators=50; total time=   0.2s\n",
      "[CV] END bootstrap=True, max_depth=40, max_features=log2, min_samples_leaf=4, min_samples_split=2, n_estimators=50; total time=   0.2s\n",
      "[CV] END bootstrap=True, max_depth=40, max_features=log2, min_samples_leaf=4, min_samples_split=2, n_estimators=50; total time=   0.2s\n",
      "[CV] END bootstrap=True, max_depth=40, max_features=log2, min_samples_leaf=4, min_samples_split=2, n_estimators=50; total time=   0.2s\n",
      "[CV] END bootstrap=True, max_depth=None, max_features=log2, min_samples_leaf=2, min_samples_split=2, n_estimators=50; total time=   0.2s\n",
      "[CV] END bootstrap=True, max_depth=None, max_features=log2, min_samples_leaf=2, min_samples_split=2, n_estimators=50; total time=   0.3s\n",
      "[CV] END bootstrap=True, max_depth=None, max_features=log2, min_samples_leaf=2, min_samples_split=2, n_estimators=50; total time=   0.2s\n",
      "[CV] END bootstrap=True, max_depth=20, max_features=sqrt, min_samples_leaf=1, min_samples_split=5, n_estimators=50; total time=   0.2s\n",
      "[CV] END bootstrap=True, max_depth=20, max_features=sqrt, min_samples_leaf=1, min_samples_split=5, n_estimators=50; total time=   0.2s\n",
      "[CV] END bootstrap=True, max_depth=20, max_features=sqrt, min_samples_leaf=1, min_samples_split=5, n_estimators=50; total time=   0.2s\n"
     ]
    },
    {
     "name": "stdout",
     "output_type": "stream",
     "text": [
      "[CV] END bootstrap=True, max_depth=None, max_features=log2, min_samples_leaf=2, min_samples_split=2, n_estimators=200; total time=   0.8s\n",
      "[CV] END bootstrap=True, max_depth=None, max_features=log2, min_samples_leaf=2, min_samples_split=2, n_estimators=200; total time=   0.8s\n",
      "[CV] END bootstrap=True, max_depth=None, max_features=log2, min_samples_leaf=2, min_samples_split=2, n_estimators=200; total time=   0.8s\n",
      "[CV] END bootstrap=False, max_depth=10, max_features=sqrt, min_samples_leaf=1, min_samples_split=2, n_estimators=100; total time=   0.5s\n",
      "[CV] END bootstrap=False, max_depth=10, max_features=sqrt, min_samples_leaf=1, min_samples_split=2, n_estimators=100; total time=   0.5s\n",
      "[CV] END bootstrap=False, max_depth=10, max_features=sqrt, min_samples_leaf=1, min_samples_split=2, n_estimators=100; total time=   0.5s\n",
      "[CV] END bootstrap=True, max_depth=30, max_features=sqrt, min_samples_leaf=4, min_samples_split=10, n_estimators=50; total time=   0.2s\n",
      "[CV] END bootstrap=True, max_depth=30, max_features=sqrt, min_samples_leaf=4, min_samples_split=10, n_estimators=50; total time=   0.2s\n",
      "[CV] END bootstrap=True, max_depth=30, max_features=sqrt, min_samples_leaf=4, min_samples_split=10, n_estimators=50; total time=   0.2s\n",
      "[CV] END bootstrap=True, max_depth=10, max_features=log2, min_samples_leaf=1, min_samples_split=2, n_estimators=200; total time=   0.7s\n",
      "[CV] END bootstrap=True, max_depth=10, max_features=log2, min_samples_leaf=1, min_samples_split=2, n_estimators=200; total time=   0.7s\n",
      "[CV] END bootstrap=True, max_depth=10, max_features=log2, min_samples_leaf=1, min_samples_split=2, n_estimators=200; total time=   0.7s\n",
      "[CV] END bootstrap=False, max_depth=20, max_features=log2, min_samples_leaf=2, min_samples_split=5, n_estimators=50; total time=   0.3s\n",
      "[CV] END bootstrap=False, max_depth=20, max_features=log2, min_samples_leaf=2, min_samples_split=5, n_estimators=50; total time=   0.3s\n",
      "[CV] END bootstrap=False, max_depth=20, max_features=log2, min_samples_leaf=2, min_samples_split=5, n_estimators=50; total time=   0.3s\n",
      "[CV] END bootstrap=True, max_depth=20, max_features=sqrt, min_samples_leaf=4, min_samples_split=5, n_estimators=100; total time=   0.4s\n",
      "[CV] END bootstrap=True, max_depth=20, max_features=sqrt, min_samples_leaf=4, min_samples_split=5, n_estimators=100; total time=   0.4s\n",
      "[CV] END bootstrap=True, max_depth=20, max_features=sqrt, min_samples_leaf=4, min_samples_split=5, n_estimators=100; total time=   0.4s\n",
      "[CV] END bootstrap=False, max_depth=10, max_features=sqrt, min_samples_leaf=2, min_samples_split=10, n_estimators=200; total time=   0.9s\n",
      "[CV] END bootstrap=False, max_depth=10, max_features=sqrt, min_samples_leaf=2, min_samples_split=10, n_estimators=200; total time=   0.9s\n",
      "[CV] END bootstrap=False, max_depth=10, max_features=sqrt, min_samples_leaf=2, min_samples_split=10, n_estimators=200; total time=   0.9s\n",
      "[CV] END bootstrap=False, max_depth=30, max_features=sqrt, min_samples_leaf=4, min_samples_split=5, n_estimators=50; total time=   0.3s\n",
      "[CV] END bootstrap=False, max_depth=30, max_features=sqrt, min_samples_leaf=4, min_samples_split=5, n_estimators=50; total time=   0.3s\n",
      "[CV] END bootstrap=False, max_depth=30, max_features=sqrt, min_samples_leaf=4, min_samples_split=5, n_estimators=50; total time=   0.3s\n",
      "[CV] END bootstrap=False, max_depth=10, max_features=log2, min_samples_leaf=1, min_samples_split=2, n_estimators=200; total time=   1.0s\n",
      "[CV] END bootstrap=False, max_depth=10, max_features=log2, min_samples_leaf=1, min_samples_split=2, n_estimators=200; total time=   1.0s\n",
      "[CV] END bootstrap=False, max_depth=10, max_features=log2, min_samples_leaf=1, min_samples_split=2, n_estimators=200; total time=   1.0s\n",
      "[CV] END bootstrap=False, max_depth=20, max_features=auto, min_samples_leaf=1, min_samples_split=5, n_estimators=50; total time=   0.0s\n",
      "[CV] END bootstrap=False, max_depth=20, max_features=auto, min_samples_leaf=1, min_samples_split=5, n_estimators=50; total time=   0.0s\n",
      "[CV] END bootstrap=False, max_depth=20, max_features=auto, min_samples_leaf=1, min_samples_split=5, n_estimators=50; total time=   0.0s\n",
      "[CV] END bootstrap=True, max_depth=40, max_features=auto, min_samples_leaf=2, min_samples_split=5, n_estimators=50; total time=   0.0s\n",
      "[CV] END bootstrap=True, max_depth=40, max_features=auto, min_samples_leaf=2, min_samples_split=5, n_estimators=50; total time=   0.0s\n",
      "[CV] END bootstrap=True, max_depth=40, max_features=auto, min_samples_leaf=2, min_samples_split=5, n_estimators=50; total time=   0.0s\n",
      "[CV] END bootstrap=False, max_depth=20, max_features=log2, min_samples_leaf=2, min_samples_split=2, n_estimators=100; total time=   0.6s\n",
      "[CV] END bootstrap=False, max_depth=20, max_features=log2, min_samples_leaf=2, min_samples_split=2, n_estimators=100; total time=   0.6s\n",
      "[CV] END bootstrap=False, max_depth=20, max_features=log2, min_samples_leaf=2, min_samples_split=2, n_estimators=100; total time=   0.6s\n",
      "[CV] END bootstrap=False, max_depth=20, max_features=auto, min_samples_leaf=4, min_samples_split=10, n_estimators=50; total time=   0.0s\n",
      "[CV] END bootstrap=False, max_depth=20, max_features=auto, min_samples_leaf=4, min_samples_split=10, n_estimators=50; total time=   0.0s\n",
      "[CV] END bootstrap=False, max_depth=20, max_features=auto, min_samples_leaf=4, min_samples_split=10, n_estimators=50; total time=   0.0s\n",
      "[CV] END bootstrap=False, max_depth=30, max_features=auto, min_samples_leaf=4, min_samples_split=10, n_estimators=100; total time=   0.0s\n",
      "[CV] END bootstrap=False, max_depth=30, max_features=auto, min_samples_leaf=4, min_samples_split=10, n_estimators=100; total time=   0.0s\n",
      "[CV] END bootstrap=False, max_depth=30, max_features=auto, min_samples_leaf=4, min_samples_split=10, n_estimators=100; total time=   0.0s\n",
      "[CV] END bootstrap=True, max_depth=30, max_features=log2, min_samples_leaf=1, min_samples_split=5, n_estimators=200; total time=   0.8s\n",
      "[CV] END bootstrap=True, max_depth=30, max_features=log2, min_samples_leaf=1, min_samples_split=5, n_estimators=200; total time=   0.8s\n",
      "[CV] END bootstrap=True, max_depth=30, max_features=log2, min_samples_leaf=1, min_samples_split=5, n_estimators=200; total time=   0.8s\n",
      "[CV] END bootstrap=False, max_depth=None, max_features=auto, min_samples_leaf=1, min_samples_split=2, n_estimators=50; total time=   0.0s\n",
      "[CV] END bootstrap=False, max_depth=None, max_features=auto, min_samples_leaf=1, min_samples_split=2, n_estimators=50; total time=   0.0s\n",
      "[CV] END bootstrap=False, max_depth=None, max_features=auto, min_samples_leaf=1, min_samples_split=2, n_estimators=50; total time=   0.0s\n",
      "[CV] END bootstrap=False, max_depth=10, max_features=log2, min_samples_leaf=2, min_samples_split=2, n_estimators=50; total time=   0.2s\n",
      "[CV] END bootstrap=False, max_depth=10, max_features=log2, min_samples_leaf=2, min_samples_split=2, n_estimators=50; total time=   0.2s\n",
      "[CV] END bootstrap=False, max_depth=10, max_features=log2, min_samples_leaf=2, min_samples_split=2, n_estimators=50; total time=   0.2s\n",
      "[CV] END bootstrap=True, max_depth=10, max_features=auto, min_samples_leaf=1, min_samples_split=5, n_estimators=200; total time=   0.0s\n",
      "[CV] END bootstrap=True, max_depth=10, max_features=auto, min_samples_leaf=1, min_samples_split=5, n_estimators=200; total time=   0.0s\n",
      "[CV] END bootstrap=True, max_depth=10, max_features=auto, min_samples_leaf=1, min_samples_split=5, n_estimators=200; total time=   0.0s\n",
      "[CV] END bootstrap=False, max_depth=10, max_features=auto, min_samples_leaf=1, min_samples_split=2, n_estimators=100; total time=   0.0s\n",
      "[CV] END bootstrap=False, max_depth=10, max_features=auto, min_samples_leaf=1, min_samples_split=2, n_estimators=100; total time=   0.0s\n",
      "[CV] END bootstrap=False, max_depth=10, max_features=auto, min_samples_leaf=1, min_samples_split=2, n_estimators=100; total time=   0.0s\n",
      "[CV] END bootstrap=False, max_depth=20, max_features=auto, min_samples_leaf=2, min_samples_split=5, n_estimators=50; total time=   0.0s\n",
      "[CV] END bootstrap=False, max_depth=20, max_features=auto, min_samples_leaf=2, min_samples_split=5, n_estimators=50; total time=   0.0s\n",
      "[CV] END bootstrap=False, max_depth=20, max_features=auto, min_samples_leaf=2, min_samples_split=5, n_estimators=50; total time=   0.0s\n",
      "[CV] END bootstrap=True, max_depth=40, max_features=auto, min_samples_leaf=1, min_samples_split=5, n_estimators=50; total time=   0.0s\n",
      "[CV] END bootstrap=True, max_depth=40, max_features=auto, min_samples_leaf=1, min_samples_split=5, n_estimators=50; total time=   0.0s\n",
      "[CV] END bootstrap=True, max_depth=40, max_features=auto, min_samples_leaf=1, min_samples_split=5, n_estimators=50; total time=   0.0s\n"
     ]
    },
    {
     "name": "stdout",
     "output_type": "stream",
     "text": [
      "[CV] END bootstrap=False, max_depth=20, max_features=sqrt, min_samples_leaf=2, min_samples_split=2, n_estimators=200; total time=   1.1s\n",
      "[CV] END bootstrap=False, max_depth=20, max_features=sqrt, min_samples_leaf=2, min_samples_split=2, n_estimators=200; total time=   1.1s\n",
      "[CV] END bootstrap=False, max_depth=20, max_features=sqrt, min_samples_leaf=2, min_samples_split=2, n_estimators=200; total time=   1.1s\n",
      "[CV] END bootstrap=True, max_depth=10, max_features=sqrt, min_samples_leaf=2, min_samples_split=5, n_estimators=50; total time=   0.2s\n",
      "[CV] END bootstrap=True, max_depth=10, max_features=sqrt, min_samples_leaf=2, min_samples_split=5, n_estimators=50; total time=   0.2s\n",
      "[CV] END bootstrap=True, max_depth=10, max_features=sqrt, min_samples_leaf=2, min_samples_split=5, n_estimators=50; total time=   0.2s\n",
      "[CV] END bootstrap=True, max_depth=20, max_features=auto, min_samples_leaf=2, min_samples_split=5, n_estimators=50; total time=   0.0s\n",
      "[CV] END bootstrap=True, max_depth=20, max_features=auto, min_samples_leaf=2, min_samples_split=5, n_estimators=50; total time=   0.0s\n",
      "[CV] END bootstrap=True, max_depth=20, max_features=auto, min_samples_leaf=2, min_samples_split=5, n_estimators=50; total time=   0.0s\n",
      "[CV] END bootstrap=False, max_depth=40, max_features=auto, min_samples_leaf=2, min_samples_split=5, n_estimators=50; total time=   0.0s\n",
      "[CV] END bootstrap=False, max_depth=40, max_features=auto, min_samples_leaf=2, min_samples_split=5, n_estimators=50; total time=   0.0s\n",
      "[CV] END bootstrap=False, max_depth=40, max_features=auto, min_samples_leaf=2, min_samples_split=5, n_estimators=50; total time=   0.0s\n",
      "[CV] END bootstrap=True, max_depth=20, max_features=auto, min_samples_leaf=1, min_samples_split=10, n_estimators=50; total time=   0.0s\n",
      "[CV] END bootstrap=True, max_depth=20, max_features=auto, min_samples_leaf=1, min_samples_split=10, n_estimators=50; total time=   0.0s\n",
      "[CV] END bootstrap=True, max_depth=20, max_features=auto, min_samples_leaf=1, min_samples_split=10, n_estimators=50; total time=   0.0s\n",
      "[CV] END bootstrap=True, max_depth=30, max_features=sqrt, min_samples_leaf=2, min_samples_split=10, n_estimators=50; total time=   0.2s\n",
      "[CV] END bootstrap=True, max_depth=30, max_features=sqrt, min_samples_leaf=2, min_samples_split=10, n_estimators=50; total time=   0.2s\n",
      "[CV] END bootstrap=True, max_depth=30, max_features=sqrt, min_samples_leaf=2, min_samples_split=10, n_estimators=50; total time=   0.2s\n",
      "[CV] END bootstrap=True, max_depth=None, max_features=sqrt, min_samples_leaf=4, min_samples_split=5, n_estimators=100; total time=   0.4s\n",
      "[CV] END bootstrap=True, max_depth=None, max_features=sqrt, min_samples_leaf=4, min_samples_split=5, n_estimators=100; total time=   0.4s\n",
      "[CV] END bootstrap=True, max_depth=None, max_features=sqrt, min_samples_leaf=4, min_samples_split=5, n_estimators=100; total time=   0.4s\n",
      "[CV] END bootstrap=True, max_depth=10, max_features=auto, min_samples_leaf=2, min_samples_split=10, n_estimators=50; total time=   0.0s\n",
      "[CV] END bootstrap=True, max_depth=10, max_features=auto, min_samples_leaf=2, min_samples_split=10, n_estimators=50; total time=   0.0s\n",
      "[CV] END bootstrap=True, max_depth=10, max_features=auto, min_samples_leaf=2, min_samples_split=10, n_estimators=50; total time=   0.0s\n",
      "[CV] END bootstrap=True, max_depth=10, max_features=log2, min_samples_leaf=4, min_samples_split=2, n_estimators=200; total time=   0.7s\n",
      "[CV] END bootstrap=True, max_depth=10, max_features=log2, min_samples_leaf=4, min_samples_split=2, n_estimators=200; total time=   0.7s\n",
      "[CV] END bootstrap=True, max_depth=10, max_features=log2, min_samples_leaf=4, min_samples_split=2, n_estimators=200; total time=   0.7s\n",
      "[CV] END bootstrap=False, max_depth=30, max_features=auto, min_samples_leaf=4, min_samples_split=5, n_estimators=50; total time=   0.0s\n",
      "[CV] END bootstrap=False, max_depth=30, max_features=auto, min_samples_leaf=4, min_samples_split=5, n_estimators=50; total time=   0.0s\n",
      "[CV] END bootstrap=False, max_depth=30, max_features=auto, min_samples_leaf=4, min_samples_split=5, n_estimators=50; total time=   0.0s\n",
      "[CV] END bootstrap=False, max_depth=10, max_features=auto, min_samples_leaf=1, min_samples_split=10, n_estimators=200; total time=   0.0s\n",
      "[CV] END bootstrap=False, max_depth=10, max_features=auto, min_samples_leaf=1, min_samples_split=10, n_estimators=200; total time=   0.0s\n",
      "[CV] END bootstrap=False, max_depth=10, max_features=auto, min_samples_leaf=1, min_samples_split=10, n_estimators=200; total time=   0.0s\n",
      "[CV] END bootstrap=False, max_depth=20, max_features=sqrt, min_samples_leaf=1, min_samples_split=2, n_estimators=50; total time=   0.3s\n",
      "[CV] END bootstrap=False, max_depth=20, max_features=sqrt, min_samples_leaf=1, min_samples_split=2, n_estimators=50; total time=   0.3s\n",
      "[CV] END bootstrap=False, max_depth=20, max_features=sqrt, min_samples_leaf=1, min_samples_split=2, n_estimators=50; total time=   0.3s\n",
      "[CV] END bootstrap=False, max_depth=40, max_features=log2, min_samples_leaf=4, min_samples_split=5, n_estimators=100; total time=   0.5s\n",
      "[CV] END bootstrap=False, max_depth=40, max_features=log2, min_samples_leaf=4, min_samples_split=5, n_estimators=100; total time=   0.5s\n",
      "[CV] END bootstrap=False, max_depth=40, max_features=log2, min_samples_leaf=4, min_samples_split=5, n_estimators=100; total time=   0.5s\n",
      "[CV] END bootstrap=True, max_depth=None, max_features=sqrt, min_samples_leaf=1, min_samples_split=10, n_estimators=50; total time=   0.2s\n",
      "[CV] END bootstrap=True, max_depth=None, max_features=sqrt, min_samples_leaf=1, min_samples_split=10, n_estimators=50; total time=   0.2s\n",
      "[CV] END bootstrap=True, max_depth=None, max_features=sqrt, min_samples_leaf=1, min_samples_split=10, n_estimators=50; total time=   0.2s\n",
      "[CV] END bootstrap=True, max_depth=None, max_features=sqrt, min_samples_leaf=1, min_samples_split=5, n_estimators=100; total time=   0.4s\n",
      "[CV] END bootstrap=True, max_depth=None, max_features=sqrt, min_samples_leaf=1, min_samples_split=5, n_estimators=100; total time=   0.4s\n",
      "[CV] END bootstrap=True, max_depth=None, max_features=sqrt, min_samples_leaf=1, min_samples_split=5, n_estimators=100; total time=   0.4s\n",
      "[CV] END bootstrap=False, max_depth=20, max_features=sqrt, min_samples_leaf=1, min_samples_split=5, n_estimators=100; total time=   0.6s\n",
      "[CV] END bootstrap=False, max_depth=20, max_features=sqrt, min_samples_leaf=1, min_samples_split=5, n_estimators=100; total time=   0.6s\n",
      "[CV] END bootstrap=False, max_depth=20, max_features=sqrt, min_samples_leaf=1, min_samples_split=5, n_estimators=100; total time=   0.6s\n",
      "[CV] END bootstrap=True, max_depth=30, max_features=sqrt, min_samples_leaf=1, min_samples_split=5, n_estimators=200; total time=   0.8s\n",
      "[CV] END bootstrap=True, max_depth=30, max_features=sqrt, min_samples_leaf=1, min_samples_split=5, n_estimators=200; total time=   0.8s\n",
      "[CV] END bootstrap=True, max_depth=30, max_features=sqrt, min_samples_leaf=1, min_samples_split=5, n_estimators=200; total time=   0.8s\n",
      "[CV] END bootstrap=True, max_depth=40, max_features=auto, min_samples_leaf=1, min_samples_split=5, n_estimators=200; total time=   0.0s\n",
      "[CV] END bootstrap=True, max_depth=40, max_features=auto, min_samples_leaf=1, min_samples_split=5, n_estimators=200; total time=   0.0s\n",
      "[CV] END bootstrap=True, max_depth=40, max_features=auto, min_samples_leaf=1, min_samples_split=5, n_estimators=200; total time=   0.0s\n",
      "[CV] END bootstrap=True, max_depth=40, max_features=log2, min_samples_leaf=1, min_samples_split=5, n_estimators=50; total time=   0.2s\n",
      "[CV] END bootstrap=True, max_depth=40, max_features=log2, min_samples_leaf=1, min_samples_split=5, n_estimators=50; total time=   0.2s\n",
      "[CV] END bootstrap=True, max_depth=40, max_features=log2, min_samples_leaf=1, min_samples_split=5, n_estimators=50; total time=   0.2s\n",
      "[CV] END bootstrap=True, max_depth=20, max_features=sqrt, min_samples_leaf=4, min_samples_split=5, n_estimators=50; total time=   0.2s\n",
      "[CV] END bootstrap=True, max_depth=20, max_features=sqrt, min_samples_leaf=4, min_samples_split=5, n_estimators=50; total time=   0.2s\n",
      "[CV] END bootstrap=True, max_depth=20, max_features=sqrt, min_samples_leaf=4, min_samples_split=5, n_estimators=50; total time=   0.2s\n",
      "[CV] END bootstrap=False, max_depth=None, max_features=sqrt, min_samples_leaf=1, min_samples_split=2, n_estimators=50; total time=   0.3s\n"
     ]
    },
    {
     "name": "stdout",
     "output_type": "stream",
     "text": [
      "[CV] END bootstrap=False, max_depth=None, max_features=sqrt, min_samples_leaf=1, min_samples_split=2, n_estimators=50; total time=   0.3s\n",
      "[CV] END bootstrap=False, max_depth=None, max_features=sqrt, min_samples_leaf=1, min_samples_split=2, n_estimators=50; total time=   0.3s\n",
      "[CV] END bootstrap=False, max_depth=None, max_features=log2, min_samples_leaf=1, min_samples_split=10, n_estimators=50; total time=   0.3s\n",
      "[CV] END bootstrap=False, max_depth=None, max_features=log2, min_samples_leaf=1, min_samples_split=10, n_estimators=50; total time=   0.3s\n",
      "[CV] END bootstrap=False, max_depth=None, max_features=log2, min_samples_leaf=1, min_samples_split=10, n_estimators=50; total time=   0.3s\n",
      "[CV] END bootstrap=True, max_depth=None, max_features=log2, min_samples_leaf=4, min_samples_split=2, n_estimators=50; total time=   0.2s\n",
      "[CV] END bootstrap=True, max_depth=None, max_features=log2, min_samples_leaf=4, min_samples_split=2, n_estimators=50; total time=   0.2s\n",
      "[CV] END bootstrap=True, max_depth=None, max_features=log2, min_samples_leaf=4, min_samples_split=2, n_estimators=50; total time=   0.2s\n",
      "[CV] END bootstrap=True, max_depth=None, max_features=log2, min_samples_leaf=4, min_samples_split=5, n_estimators=200; total time=   0.8s\n",
      "[CV] END bootstrap=True, max_depth=None, max_features=log2, min_samples_leaf=4, min_samples_split=5, n_estimators=200; total time=   0.7s\n",
      "[CV] END bootstrap=True, max_depth=None, max_features=log2, min_samples_leaf=4, min_samples_split=5, n_estimators=200; total time=   0.8s\n",
      "[CV] END bootstrap=False, max_depth=10, max_features=auto, min_samples_leaf=1, min_samples_split=10, n_estimators=100; total time=   0.0s\n",
      "[CV] END bootstrap=False, max_depth=10, max_features=auto, min_samples_leaf=1, min_samples_split=10, n_estimators=100; total time=   0.0s\n",
      "[CV] END bootstrap=False, max_depth=10, max_features=auto, min_samples_leaf=1, min_samples_split=10, n_estimators=100; total time=   0.0s\n",
      "[CV] END bootstrap=False, max_depth=10, max_features=sqrt, min_samples_leaf=1, min_samples_split=10, n_estimators=50; total time=   0.3s\n",
      "[CV] END bootstrap=False, max_depth=10, max_features=sqrt, min_samples_leaf=1, min_samples_split=10, n_estimators=50; total time=   0.2s\n",
      "[CV] END bootstrap=False, max_depth=10, max_features=sqrt, min_samples_leaf=1, min_samples_split=10, n_estimators=50; total time=   0.3s\n",
      "[CV] END bootstrap=True, max_depth=40, max_features=auto, min_samples_leaf=4, min_samples_split=10, n_estimators=200; total time=   0.0s\n",
      "[CV] END bootstrap=True, max_depth=40, max_features=auto, min_samples_leaf=4, min_samples_split=10, n_estimators=200; total time=   0.0s\n",
      "[CV] END bootstrap=True, max_depth=40, max_features=auto, min_samples_leaf=4, min_samples_split=10, n_estimators=200; total time=   0.0s\n",
      "[CV] END bootstrap=False, max_depth=40, max_features=sqrt, min_samples_leaf=1, min_samples_split=2, n_estimators=50; total time=   0.3s\n",
      "[CV] END bootstrap=False, max_depth=40, max_features=sqrt, min_samples_leaf=1, min_samples_split=2, n_estimators=50; total time=   0.3s\n",
      "[CV] END bootstrap=False, max_depth=40, max_features=sqrt, min_samples_leaf=1, min_samples_split=2, n_estimators=50; total time=   0.3s\n",
      "[CV] END bootstrap=False, max_depth=30, max_features=auto, min_samples_leaf=1, min_samples_split=2, n_estimators=100; total time=   0.0s\n",
      "[CV] END bootstrap=False, max_depth=30, max_features=auto, min_samples_leaf=1, min_samples_split=2, n_estimators=100; total time=   0.0s\n",
      "[CV] END bootstrap=False, max_depth=30, max_features=auto, min_samples_leaf=1, min_samples_split=2, n_estimators=100; total time=   0.0s\n",
      "[CV] END bootstrap=True, max_depth=30, max_features=sqrt, min_samples_leaf=2, min_samples_split=2, n_estimators=200; total time=   0.8s\n",
      "[CV] END bootstrap=True, max_depth=30, max_features=sqrt, min_samples_leaf=2, min_samples_split=2, n_estimators=200; total time=   0.8s\n",
      "[CV] END bootstrap=True, max_depth=30, max_features=sqrt, min_samples_leaf=2, min_samples_split=2, n_estimators=200; total time=   0.8s\n",
      "[CV] END bootstrap=False, max_depth=10, max_features=sqrt, min_samples_leaf=2, min_samples_split=5, n_estimators=200; total time=   0.9s\n",
      "[CV] END bootstrap=False, max_depth=10, max_features=sqrt, min_samples_leaf=2, min_samples_split=5, n_estimators=200; total time=   0.9s\n",
      "[CV] END bootstrap=False, max_depth=10, max_features=sqrt, min_samples_leaf=2, min_samples_split=5, n_estimators=200; total time=   0.9s\n",
      "[CV] END bootstrap=False, max_depth=30, max_features=log2, min_samples_leaf=1, min_samples_split=10, n_estimators=100; total time=   0.5s\n",
      "[CV] END bootstrap=False, max_depth=30, max_features=log2, min_samples_leaf=1, min_samples_split=10, n_estimators=100; total time=   0.5s\n",
      "[CV] END bootstrap=False, max_depth=30, max_features=log2, min_samples_leaf=1, min_samples_split=10, n_estimators=100; total time=   0.6s\n",
      "[CV] END bootstrap=False, max_depth=20, max_features=log2, min_samples_leaf=2, min_samples_split=5, n_estimators=100; total time=   0.6s\n",
      "[CV] END bootstrap=False, max_depth=20, max_features=log2, min_samples_leaf=2, min_samples_split=5, n_estimators=100; total time=   0.5s\n",
      "[CV] END bootstrap=False, max_depth=20, max_features=log2, min_samples_leaf=2, min_samples_split=5, n_estimators=100; total time=   0.6s\n",
      "[CV] END bootstrap=True, max_depth=40, max_features=sqrt, min_samples_leaf=2, min_samples_split=2, n_estimators=100; total time=   0.4s\n",
      "[CV] END bootstrap=True, max_depth=40, max_features=sqrt, min_samples_leaf=2, min_samples_split=2, n_estimators=100; total time=   0.4s\n",
      "[CV] END bootstrap=True, max_depth=40, max_features=sqrt, min_samples_leaf=2, min_samples_split=2, n_estimators=100; total time=   0.5s\n",
      "[CV] END bootstrap=False, max_depth=None, max_features=log2, min_samples_leaf=4, min_samples_split=10, n_estimators=200; total time=   1.0s\n",
      "[CV] END bootstrap=False, max_depth=None, max_features=log2, min_samples_leaf=4, min_samples_split=10, n_estimators=200; total time=   1.0s\n",
      "[CV] END bootstrap=False, max_depth=None, max_features=log2, min_samples_leaf=4, min_samples_split=10, n_estimators=200; total time=   1.0s\n",
      "[CV] END bootstrap=False, max_depth=20, max_features=auto, min_samples_leaf=4, min_samples_split=2, n_estimators=50; total time=   0.0s\n",
      "[CV] END bootstrap=False, max_depth=20, max_features=auto, min_samples_leaf=4, min_samples_split=2, n_estimators=50; total time=   0.0s\n",
      "[CV] END bootstrap=False, max_depth=20, max_features=auto, min_samples_leaf=4, min_samples_split=2, n_estimators=50; total time=   0.0s\n",
      "[CV] END bootstrap=False, max_depth=None, max_features=sqrt, min_samples_leaf=4, min_samples_split=5, n_estimators=50; total time=   0.3s\n",
      "[CV] END bootstrap=False, max_depth=None, max_features=sqrt, min_samples_leaf=4, min_samples_split=5, n_estimators=50; total time=   0.3s\n",
      "[CV] END bootstrap=False, max_depth=None, max_features=sqrt, min_samples_leaf=4, min_samples_split=5, n_estimators=50; total time=   0.3s\n",
      "[CV] END bootstrap=False, max_depth=20, max_features=sqrt, min_samples_leaf=4, min_samples_split=2, n_estimators=100; total time=   0.5s\n",
      "[CV] END bootstrap=False, max_depth=20, max_features=sqrt, min_samples_leaf=4, min_samples_split=2, n_estimators=100; total time=   0.5s\n",
      "[CV] END bootstrap=False, max_depth=20, max_features=sqrt, min_samples_leaf=4, min_samples_split=2, n_estimators=100; total time=   0.5s\n",
      "[CV] END bootstrap=True, max_depth=20, max_features=sqrt, min_samples_leaf=4, min_samples_split=5, n_estimators=200; total time=   0.7s\n",
      "[CV] END bootstrap=True, max_depth=20, max_features=sqrt, min_samples_leaf=4, min_samples_split=5, n_estimators=200; total time=   0.7s\n",
      "[CV] END bootstrap=True, max_depth=20, max_features=sqrt, min_samples_leaf=4, min_samples_split=5, n_estimators=200; total time=   0.7s\n"
     ]
    },
    {
     "name": "stderr",
     "output_type": "stream",
     "text": [
      "/home/jovyan/.local/lib/python3.9/site-packages/sklearn/model_selection/_validation.py:540: FitFailedWarning: \n",
      "84 fits failed out of a total of 300.\n",
      "The score on these train-test partitions for these parameters will be set to nan.\n",
      "If these failures are not expected, you can try to debug them by setting error_score='raise'.\n",
      "\n",
      "Below are more details about the failures:\n",
      "--------------------------------------------------------------------------------\n",
      "84 fits failed with the following error:\n",
      "Traceback (most recent call last):\n",
      "  File \"/home/jovyan/.local/lib/python3.9/site-packages/sklearn/model_selection/_validation.py\", line 888, in _fit_and_score\n",
      "    estimator.fit(X_train, y_train, **fit_params)\n",
      "  File \"/home/jovyan/.local/lib/python3.9/site-packages/sklearn/base.py\", line 1466, in wrapper\n",
      "    estimator._validate_params()\n",
      "  File \"/home/jovyan/.local/lib/python3.9/site-packages/sklearn/base.py\", line 666, in _validate_params\n",
      "    validate_parameter_constraints(\n",
      "  File \"/home/jovyan/.local/lib/python3.9/site-packages/sklearn/utils/_param_validation.py\", line 95, in validate_parameter_constraints\n",
      "    raise InvalidParameterError(\n",
      "sklearn.utils._param_validation.InvalidParameterError: The 'max_features' parameter of RandomForestClassifier must be an int in the range [1, inf), a float in the range (0.0, 1.0], a str among {'log2', 'sqrt'} or None. Got 'auto' instead.\n",
      "\n",
      "  warnings.warn(some_fits_failed_message, FitFailedWarning)\n",
      "/home/jovyan/.local/lib/python3.9/site-packages/sklearn/model_selection/_search.py:1103: UserWarning: One or more of the test scores are non-finite: [       nan        nan 0.60146023 0.60943817 0.61220419 0.59083409\n",
      " 0.59415257 0.54956419 0.60803033        nan 0.60517574 0.60036263\n",
      " 0.60139703 0.61059112        nan        nan 0.60777048 0.59399274\n",
      " 0.59103466 0.61051038 0.61054798 0.60758873 0.55338087 0.59103466\n",
      " 0.60517574 0.57874331 0.61316759 0.60803033 0.61106409 0.61585804\n",
      "        nan 0.57779218        nan 0.61395253 0.54415657        nan\n",
      " 0.5469598  0.6096847  0.59724802 0.58580038 0.60048193 0.59722832\n",
      " 0.61585804 0.60152728 0.58975908 0.60803033 0.61061786 0.61553041\n",
      " 0.59919236        nan        nan 0.58522069        nan        nan\n",
      " 0.59103466        nan 0.60876958        nan        nan        nan\n",
      "        nan 0.59036199 0.61542541        nan        nan        nan\n",
      " 0.59974219 0.60803033        nan 0.62294088        nan        nan\n",
      " 0.54181725 0.61395253 0.61243565 0.58888436 0.57966564 0.59103466\n",
      "        nan 0.57874331 0.6096847  0.5379918  0.59968338 0.6096847\n",
      " 0.60943817        nan 0.61486366        nan 0.5379918         nan\n",
      " 0.60048193 0.61336088 0.60296827 0.59144066 0.60362785 0.61316759\n",
      "        nan 0.61553041 0.61443592 0.61106409]\n",
      "  warnings.warn(\n"
     ]
    },
    {
     "ename": "ValueError",
     "evalue": "Found input variables with inconsistent numbers of samples: [6000, 2000]",
     "output_type": "error",
     "traceback": [
      "\u001b[0;31m---------------------------------------------------------------------------\u001b[0m",
      "\u001b[0;31mValueError\u001b[0m                                Traceback (most recent call last)",
      "Cell \u001b[0;32mIn[22], line 31\u001b[0m\n\u001b[1;32m     29\u001b[0m \u001b[38;5;66;03m# Evaluate performance\u001b[39;00m\n\u001b[1;32m     30\u001b[0m f1 \u001b[38;5;241m=\u001b[39m f1_score(target_valid, y_pred)\n\u001b[0;32m---> 31\u001b[0m auc_roc \u001b[38;5;241m=\u001b[39m \u001b[43mroc_auc_score\u001b[49m\u001b[43m(\u001b[49m\u001b[43mtarget_train\u001b[49m\u001b[43m,\u001b[49m\u001b[43m \u001b[49m\u001b[43mbest_rf_model\u001b[49m\u001b[38;5;241;43m.\u001b[39;49m\u001b[43mpredict_proba\u001b[49m\u001b[43m(\u001b[49m\u001b[43mfeatures_valid\u001b[49m\u001b[43m)\u001b[49m\u001b[43m[\u001b[49m\u001b[43m:\u001b[49m\u001b[43m,\u001b[49m\u001b[43m \u001b[49m\u001b[38;5;241;43m1\u001b[39;49m\u001b[43m]\u001b[49m\u001b[43m)\u001b[49m\n\u001b[1;32m     33\u001b[0m \u001b[38;5;28mprint\u001b[39m(\u001b[38;5;124mf\u001b[39m\u001b[38;5;124m'\u001b[39m\u001b[38;5;124mBest parameters: \u001b[39m\u001b[38;5;132;01m{\u001b[39;00mrandom_search\u001b[38;5;241m.\u001b[39mbest_params_\u001b[38;5;132;01m}\u001b[39;00m\u001b[38;5;124m'\u001b[39m)\n\u001b[1;32m     34\u001b[0m \u001b[38;5;28mprint\u001b[39m(\u001b[38;5;124mf\u001b[39m\u001b[38;5;124m'\u001b[39m\u001b[38;5;124mF1 Score: \u001b[39m\u001b[38;5;132;01m{\u001b[39;00mf1\u001b[38;5;132;01m}\u001b[39;00m\u001b[38;5;124m'\u001b[39m)\n",
      "File \u001b[0;32m~/.local/lib/python3.9/site-packages/sklearn/utils/_param_validation.py:213\u001b[0m, in \u001b[0;36mvalidate_params.<locals>.decorator.<locals>.wrapper\u001b[0;34m(*args, **kwargs)\u001b[0m\n\u001b[1;32m    207\u001b[0m \u001b[38;5;28;01mtry\u001b[39;00m:\n\u001b[1;32m    208\u001b[0m     \u001b[38;5;28;01mwith\u001b[39;00m config_context(\n\u001b[1;32m    209\u001b[0m         skip_parameter_validation\u001b[38;5;241m=\u001b[39m(\n\u001b[1;32m    210\u001b[0m             prefer_skip_nested_validation \u001b[38;5;129;01mor\u001b[39;00m global_skip_validation\n\u001b[1;32m    211\u001b[0m         )\n\u001b[1;32m    212\u001b[0m     ):\n\u001b[0;32m--> 213\u001b[0m         \u001b[38;5;28;01mreturn\u001b[39;00m \u001b[43mfunc\u001b[49m\u001b[43m(\u001b[49m\u001b[38;5;241;43m*\u001b[39;49m\u001b[43margs\u001b[49m\u001b[43m,\u001b[49m\u001b[43m \u001b[49m\u001b[38;5;241;43m*\u001b[39;49m\u001b[38;5;241;43m*\u001b[39;49m\u001b[43mkwargs\u001b[49m\u001b[43m)\u001b[49m\n\u001b[1;32m    214\u001b[0m \u001b[38;5;28;01mexcept\u001b[39;00m InvalidParameterError \u001b[38;5;28;01mas\u001b[39;00m e:\n\u001b[1;32m    215\u001b[0m     \u001b[38;5;66;03m# When the function is just a wrapper around an estimator, we allow\u001b[39;00m\n\u001b[1;32m    216\u001b[0m     \u001b[38;5;66;03m# the function to delegate validation to the estimator, but we replace\u001b[39;00m\n\u001b[1;32m    217\u001b[0m     \u001b[38;5;66;03m# the name of the estimator by the name of the function in the error\u001b[39;00m\n\u001b[1;32m    218\u001b[0m     \u001b[38;5;66;03m# message to avoid confusion.\u001b[39;00m\n\u001b[1;32m    219\u001b[0m     msg \u001b[38;5;241m=\u001b[39m re\u001b[38;5;241m.\u001b[39msub(\n\u001b[1;32m    220\u001b[0m         \u001b[38;5;124mr\u001b[39m\u001b[38;5;124m\"\u001b[39m\u001b[38;5;124mparameter of \u001b[39m\u001b[38;5;124m\\\u001b[39m\u001b[38;5;124mw+ must be\u001b[39m\u001b[38;5;124m\"\u001b[39m,\n\u001b[1;32m    221\u001b[0m         \u001b[38;5;124mf\u001b[39m\u001b[38;5;124m\"\u001b[39m\u001b[38;5;124mparameter of \u001b[39m\u001b[38;5;132;01m{\u001b[39;00mfunc\u001b[38;5;241m.\u001b[39m\u001b[38;5;18m__qualname__\u001b[39m\u001b[38;5;132;01m}\u001b[39;00m\u001b[38;5;124m must be\u001b[39m\u001b[38;5;124m\"\u001b[39m,\n\u001b[1;32m    222\u001b[0m         \u001b[38;5;28mstr\u001b[39m(e),\n\u001b[1;32m    223\u001b[0m     )\n",
      "File \u001b[0;32m~/.local/lib/python3.9/site-packages/sklearn/metrics/_ranking.py:640\u001b[0m, in \u001b[0;36mroc_auc_score\u001b[0;34m(y_true, y_score, average, sample_weight, max_fpr, multi_class, labels)\u001b[0m\n\u001b[1;32m    638\u001b[0m     labels \u001b[38;5;241m=\u001b[39m np\u001b[38;5;241m.\u001b[39munique(y_true)\n\u001b[1;32m    639\u001b[0m     y_true \u001b[38;5;241m=\u001b[39m label_binarize(y_true, classes\u001b[38;5;241m=\u001b[39mlabels)[:, \u001b[38;5;241m0\u001b[39m]\n\u001b[0;32m--> 640\u001b[0m     \u001b[38;5;28;01mreturn\u001b[39;00m \u001b[43m_average_binary_score\u001b[49m\u001b[43m(\u001b[49m\n\u001b[1;32m    641\u001b[0m \u001b[43m        \u001b[49m\u001b[43mpartial\u001b[49m\u001b[43m(\u001b[49m\u001b[43m_binary_roc_auc_score\u001b[49m\u001b[43m,\u001b[49m\u001b[43m \u001b[49m\u001b[43mmax_fpr\u001b[49m\u001b[38;5;241;43m=\u001b[39;49m\u001b[43mmax_fpr\u001b[49m\u001b[43m)\u001b[49m\u001b[43m,\u001b[49m\n\u001b[1;32m    642\u001b[0m \u001b[43m        \u001b[49m\u001b[43my_true\u001b[49m\u001b[43m,\u001b[49m\n\u001b[1;32m    643\u001b[0m \u001b[43m        \u001b[49m\u001b[43my_score\u001b[49m\u001b[43m,\u001b[49m\n\u001b[1;32m    644\u001b[0m \u001b[43m        \u001b[49m\u001b[43maverage\u001b[49m\u001b[43m,\u001b[49m\n\u001b[1;32m    645\u001b[0m \u001b[43m        \u001b[49m\u001b[43msample_weight\u001b[49m\u001b[38;5;241;43m=\u001b[39;49m\u001b[43msample_weight\u001b[49m\u001b[43m,\u001b[49m\n\u001b[1;32m    646\u001b[0m \u001b[43m    \u001b[49m\u001b[43m)\u001b[49m\n\u001b[1;32m    647\u001b[0m \u001b[38;5;28;01melse\u001b[39;00m:  \u001b[38;5;66;03m# multilabel-indicator\u001b[39;00m\n\u001b[1;32m    648\u001b[0m     \u001b[38;5;28;01mreturn\u001b[39;00m _average_binary_score(\n\u001b[1;32m    649\u001b[0m         partial(_binary_roc_auc_score, max_fpr\u001b[38;5;241m=\u001b[39mmax_fpr),\n\u001b[1;32m    650\u001b[0m         y_true,\n\u001b[0;32m   (...)\u001b[0m\n\u001b[1;32m    653\u001b[0m         sample_weight\u001b[38;5;241m=\u001b[39msample_weight,\n\u001b[1;32m    654\u001b[0m     )\n",
      "File \u001b[0;32m~/.local/lib/python3.9/site-packages/sklearn/metrics/_base.py:76\u001b[0m, in \u001b[0;36m_average_binary_score\u001b[0;34m(binary_metric, y_true, y_score, average, sample_weight)\u001b[0m\n\u001b[1;32m     73\u001b[0m     \u001b[38;5;28;01mraise\u001b[39;00m \u001b[38;5;167;01mValueError\u001b[39;00m(\u001b[38;5;124m\"\u001b[39m\u001b[38;5;132;01m{0}\u001b[39;00m\u001b[38;5;124m format is not supported\u001b[39m\u001b[38;5;124m\"\u001b[39m\u001b[38;5;241m.\u001b[39mformat(y_type))\n\u001b[1;32m     75\u001b[0m \u001b[38;5;28;01mif\u001b[39;00m y_type \u001b[38;5;241m==\u001b[39m \u001b[38;5;124m\"\u001b[39m\u001b[38;5;124mbinary\u001b[39m\u001b[38;5;124m\"\u001b[39m:\n\u001b[0;32m---> 76\u001b[0m     \u001b[38;5;28;01mreturn\u001b[39;00m \u001b[43mbinary_metric\u001b[49m\u001b[43m(\u001b[49m\u001b[43my_true\u001b[49m\u001b[43m,\u001b[49m\u001b[43m \u001b[49m\u001b[43my_score\u001b[49m\u001b[43m,\u001b[49m\u001b[43m \u001b[49m\u001b[43msample_weight\u001b[49m\u001b[38;5;241;43m=\u001b[39;49m\u001b[43msample_weight\u001b[49m\u001b[43m)\u001b[49m\n\u001b[1;32m     78\u001b[0m check_consistent_length(y_true, y_score, sample_weight)\n\u001b[1;32m     79\u001b[0m y_true \u001b[38;5;241m=\u001b[39m check_array(y_true)\n",
      "File \u001b[0;32m~/.local/lib/python3.9/site-packages/sklearn/metrics/_ranking.py:387\u001b[0m, in \u001b[0;36m_binary_roc_auc_score\u001b[0;34m(y_true, y_score, sample_weight, max_fpr)\u001b[0m\n\u001b[1;32m    381\u001b[0m \u001b[38;5;28;01mif\u001b[39;00m \u001b[38;5;28mlen\u001b[39m(np\u001b[38;5;241m.\u001b[39munique(y_true)) \u001b[38;5;241m!=\u001b[39m \u001b[38;5;241m2\u001b[39m:\n\u001b[1;32m    382\u001b[0m     \u001b[38;5;28;01mraise\u001b[39;00m \u001b[38;5;167;01mValueError\u001b[39;00m(\n\u001b[1;32m    383\u001b[0m         \u001b[38;5;124m\"\u001b[39m\u001b[38;5;124mOnly one class present in y_true. ROC AUC score \u001b[39m\u001b[38;5;124m\"\u001b[39m\n\u001b[1;32m    384\u001b[0m         \u001b[38;5;124m\"\u001b[39m\u001b[38;5;124mis not defined in that case.\u001b[39m\u001b[38;5;124m\"\u001b[39m\n\u001b[1;32m    385\u001b[0m     )\n\u001b[0;32m--> 387\u001b[0m fpr, tpr, _ \u001b[38;5;241m=\u001b[39m \u001b[43mroc_curve\u001b[49m\u001b[43m(\u001b[49m\u001b[43my_true\u001b[49m\u001b[43m,\u001b[49m\u001b[43m \u001b[49m\u001b[43my_score\u001b[49m\u001b[43m,\u001b[49m\u001b[43m \u001b[49m\u001b[43msample_weight\u001b[49m\u001b[38;5;241;43m=\u001b[39;49m\u001b[43msample_weight\u001b[49m\u001b[43m)\u001b[49m\n\u001b[1;32m    388\u001b[0m \u001b[38;5;28;01mif\u001b[39;00m max_fpr \u001b[38;5;129;01mis\u001b[39;00m \u001b[38;5;28;01mNone\u001b[39;00m \u001b[38;5;129;01mor\u001b[39;00m max_fpr \u001b[38;5;241m==\u001b[39m \u001b[38;5;241m1\u001b[39m:\n\u001b[1;32m    389\u001b[0m     \u001b[38;5;28;01mreturn\u001b[39;00m auc(fpr, tpr)\n",
      "File \u001b[0;32m~/.local/lib/python3.9/site-packages/sklearn/utils/_param_validation.py:186\u001b[0m, in \u001b[0;36mvalidate_params.<locals>.decorator.<locals>.wrapper\u001b[0;34m(*args, **kwargs)\u001b[0m\n\u001b[1;32m    184\u001b[0m global_skip_validation \u001b[38;5;241m=\u001b[39m get_config()[\u001b[38;5;124m\"\u001b[39m\u001b[38;5;124mskip_parameter_validation\u001b[39m\u001b[38;5;124m\"\u001b[39m]\n\u001b[1;32m    185\u001b[0m \u001b[38;5;28;01mif\u001b[39;00m global_skip_validation:\n\u001b[0;32m--> 186\u001b[0m     \u001b[38;5;28;01mreturn\u001b[39;00m \u001b[43mfunc\u001b[49m\u001b[43m(\u001b[49m\u001b[38;5;241;43m*\u001b[39;49m\u001b[43margs\u001b[49m\u001b[43m,\u001b[49m\u001b[43m \u001b[49m\u001b[38;5;241;43m*\u001b[39;49m\u001b[38;5;241;43m*\u001b[39;49m\u001b[43mkwargs\u001b[49m\u001b[43m)\u001b[49m\n\u001b[1;32m    188\u001b[0m func_sig \u001b[38;5;241m=\u001b[39m signature(func)\n\u001b[1;32m    190\u001b[0m \u001b[38;5;66;03m# Map *args/**kwargs to the function signature\u001b[39;00m\n",
      "File \u001b[0;32m~/.local/lib/python3.9/site-packages/sklearn/metrics/_ranking.py:1145\u001b[0m, in \u001b[0;36mroc_curve\u001b[0;34m(y_true, y_score, pos_label, sample_weight, drop_intermediate)\u001b[0m\n\u001b[1;32m   1043\u001b[0m \u001b[38;5;129m@validate_params\u001b[39m(\n\u001b[1;32m   1044\u001b[0m     {\n\u001b[1;32m   1045\u001b[0m         \u001b[38;5;124m\"\u001b[39m\u001b[38;5;124my_true\u001b[39m\u001b[38;5;124m\"\u001b[39m: [\u001b[38;5;124m\"\u001b[39m\u001b[38;5;124marray-like\u001b[39m\u001b[38;5;124m\"\u001b[39m],\n\u001b[0;32m   (...)\u001b[0m\n\u001b[1;32m   1054\u001b[0m     y_true, y_score, \u001b[38;5;241m*\u001b[39m, pos_label\u001b[38;5;241m=\u001b[39m\u001b[38;5;28;01mNone\u001b[39;00m, sample_weight\u001b[38;5;241m=\u001b[39m\u001b[38;5;28;01mNone\u001b[39;00m, drop_intermediate\u001b[38;5;241m=\u001b[39m\u001b[38;5;28;01mTrue\u001b[39;00m\n\u001b[1;32m   1055\u001b[0m ):\n\u001b[1;32m   1056\u001b[0m \u001b[38;5;250m    \u001b[39m\u001b[38;5;124;03m\"\"\"Compute Receiver operating characteristic (ROC).\u001b[39;00m\n\u001b[1;32m   1057\u001b[0m \n\u001b[1;32m   1058\u001b[0m \u001b[38;5;124;03m    Note: this implementation is restricted to the binary classification task.\u001b[39;00m\n\u001b[0;32m   (...)\u001b[0m\n\u001b[1;32m   1143\u001b[0m \u001b[38;5;124;03m    array([ inf, 0.8 , 0.4 , 0.35, 0.1 ])\u001b[39;00m\n\u001b[1;32m   1144\u001b[0m \u001b[38;5;124;03m    \"\"\"\u001b[39;00m\n\u001b[0;32m-> 1145\u001b[0m     fps, tps, thresholds \u001b[38;5;241m=\u001b[39m \u001b[43m_binary_clf_curve\u001b[49m\u001b[43m(\u001b[49m\n\u001b[1;32m   1146\u001b[0m \u001b[43m        \u001b[49m\u001b[43my_true\u001b[49m\u001b[43m,\u001b[49m\u001b[43m \u001b[49m\u001b[43my_score\u001b[49m\u001b[43m,\u001b[49m\u001b[43m \u001b[49m\u001b[43mpos_label\u001b[49m\u001b[38;5;241;43m=\u001b[39;49m\u001b[43mpos_label\u001b[49m\u001b[43m,\u001b[49m\u001b[43m \u001b[49m\u001b[43msample_weight\u001b[49m\u001b[38;5;241;43m=\u001b[39;49m\u001b[43msample_weight\u001b[49m\n\u001b[1;32m   1147\u001b[0m \u001b[43m    \u001b[49m\u001b[43m)\u001b[49m\n\u001b[1;32m   1149\u001b[0m     \u001b[38;5;66;03m# Attempt to drop thresholds corresponding to points in between and\u001b[39;00m\n\u001b[1;32m   1150\u001b[0m     \u001b[38;5;66;03m# collinear with other points. These are always suboptimal and do not\u001b[39;00m\n\u001b[1;32m   1151\u001b[0m     \u001b[38;5;66;03m# appear on a plotted ROC curve (and thus do not affect the AUC).\u001b[39;00m\n\u001b[0;32m   (...)\u001b[0m\n\u001b[1;32m   1156\u001b[0m     \u001b[38;5;66;03m# but does not drop more complicated cases like fps = [1, 3, 7],\u001b[39;00m\n\u001b[1;32m   1157\u001b[0m     \u001b[38;5;66;03m# tps = [1, 2, 4]; there is no harm in keeping too many thresholds.\u001b[39;00m\n\u001b[1;32m   1158\u001b[0m     \u001b[38;5;28;01mif\u001b[39;00m drop_intermediate \u001b[38;5;129;01mand\u001b[39;00m \u001b[38;5;28mlen\u001b[39m(fps) \u001b[38;5;241m>\u001b[39m \u001b[38;5;241m2\u001b[39m:\n",
      "File \u001b[0;32m~/.local/lib/python3.9/site-packages/sklearn/metrics/_ranking.py:819\u001b[0m, in \u001b[0;36m_binary_clf_curve\u001b[0;34m(y_true, y_score, pos_label, sample_weight)\u001b[0m\n\u001b[1;32m    816\u001b[0m \u001b[38;5;28;01mif\u001b[39;00m \u001b[38;5;129;01mnot\u001b[39;00m (y_type \u001b[38;5;241m==\u001b[39m \u001b[38;5;124m\"\u001b[39m\u001b[38;5;124mbinary\u001b[39m\u001b[38;5;124m\"\u001b[39m \u001b[38;5;129;01mor\u001b[39;00m (y_type \u001b[38;5;241m==\u001b[39m \u001b[38;5;124m\"\u001b[39m\u001b[38;5;124mmulticlass\u001b[39m\u001b[38;5;124m\"\u001b[39m \u001b[38;5;129;01mand\u001b[39;00m pos_label \u001b[38;5;129;01mis\u001b[39;00m \u001b[38;5;129;01mnot\u001b[39;00m \u001b[38;5;28;01mNone\u001b[39;00m)):\n\u001b[1;32m    817\u001b[0m     \u001b[38;5;28;01mraise\u001b[39;00m \u001b[38;5;167;01mValueError\u001b[39;00m(\u001b[38;5;124m\"\u001b[39m\u001b[38;5;132;01m{0}\u001b[39;00m\u001b[38;5;124m format is not supported\u001b[39m\u001b[38;5;124m\"\u001b[39m\u001b[38;5;241m.\u001b[39mformat(y_type))\n\u001b[0;32m--> 819\u001b[0m \u001b[43mcheck_consistent_length\u001b[49m\u001b[43m(\u001b[49m\u001b[43my_true\u001b[49m\u001b[43m,\u001b[49m\u001b[43m \u001b[49m\u001b[43my_score\u001b[49m\u001b[43m,\u001b[49m\u001b[43m \u001b[49m\u001b[43msample_weight\u001b[49m\u001b[43m)\u001b[49m\n\u001b[1;32m    820\u001b[0m y_true \u001b[38;5;241m=\u001b[39m column_or_1d(y_true)\n\u001b[1;32m    821\u001b[0m y_score \u001b[38;5;241m=\u001b[39m column_or_1d(y_score)\n",
      "File \u001b[0;32m~/.local/lib/python3.9/site-packages/sklearn/utils/validation.py:457\u001b[0m, in \u001b[0;36mcheck_consistent_length\u001b[0;34m(*arrays)\u001b[0m\n\u001b[1;32m    455\u001b[0m uniques \u001b[38;5;241m=\u001b[39m np\u001b[38;5;241m.\u001b[39munique(lengths)\n\u001b[1;32m    456\u001b[0m \u001b[38;5;28;01mif\u001b[39;00m \u001b[38;5;28mlen\u001b[39m(uniques) \u001b[38;5;241m>\u001b[39m \u001b[38;5;241m1\u001b[39m:\n\u001b[0;32m--> 457\u001b[0m     \u001b[38;5;28;01mraise\u001b[39;00m \u001b[38;5;167;01mValueError\u001b[39;00m(\n\u001b[1;32m    458\u001b[0m         \u001b[38;5;124m\"\u001b[39m\u001b[38;5;124mFound input variables with inconsistent numbers of samples: \u001b[39m\u001b[38;5;132;01m%r\u001b[39;00m\u001b[38;5;124m\"\u001b[39m\n\u001b[1;32m    459\u001b[0m         \u001b[38;5;241m%\u001b[39m [\u001b[38;5;28mint\u001b[39m(l) \u001b[38;5;28;01mfor\u001b[39;00m l \u001b[38;5;129;01min\u001b[39;00m lengths]\n\u001b[1;32m    460\u001b[0m     )\n",
      "\u001b[0;31mValueError\u001b[0m: Found input variables with inconsistent numbers of samples: [6000, 2000]"
     ]
    }
   ],
   "source": [
    "param_distributions = {\n",
    "    'n_estimators': [50, 100, 200],\n",
    "    'max_features': ['auto', 'sqrt', 'log2'],\n",
    "    'max_depth': [None, 10, 20, 30, 40],\n",
    "    'min_samples_split': [2, 5, 10],\n",
    "    'min_samples_leaf': [1, 2, 4],\n",
    "    'bootstrap': [True, False]\n",
    "}\n",
    "\n",
    "# Initialize RandomizedSearch\n",
    "random_search = RandomizedSearchCV(estimator=RandomForestClassifier(class_weight='balanced', random_state=315),\n",
    "                                   param_distributions=param_distributions,\n",
    "                                   n_iter=100,\n",
    "                                   scoring='f1',\n",
    "                                   cv=3,\n",
    "                                   verbose=2,\n",
    "                                   random_state=42,\n",
    "                                   n_jobs=-1)\n",
    "\n",
    "# Fit the Randomized Search\n",
    "random_search.fit(features_train, target_train)\n",
    "\n",
    "# Get the best model\n",
    "best_rf_model = random_search.best_estimator_\n",
    "\n",
    "# Make predictions\n",
    "y_pred = best_rf_model.predict(features_valid)\n",
    "\n",
    "# Evaluate performance\n",
    "f1 = f1_score(target_valid, y_pred)\n",
    "auc_roc = roc_auc_score(target_train, best_rf_model.predict_proba(features_valid)[:, 1])\n",
    "\n",
    "print(f'Best parameters: {random_search.best_params_}')\n",
    "print(f'F1 Score: {f1}')\n",
    "print(f'AUC-ROC: {auc_roc}')"
   ]
  },
  {
   "cell_type": "markdown",
   "metadata": {},
   "source": [
    "We see the hyper parameter adjustment to our training data improved our F1 score to 0.779 and AUC-ROC of 0.962!"
   ]
  },
  {
   "cell_type": "markdown",
   "metadata": {},
   "source": [
    "## Test Final Model"
   ]
  },
  {
   "cell_type": "code",
   "execution_count": 23,
   "metadata": {},
   "outputs": [
    {
     "name": "stdout",
     "output_type": "stream",
     "text": [
      "Random Forest Model Accuracy: 0.851\n"
     ]
    }
   ],
   "source": [
    "rf_predictions = best_rf_model.predict(features_test)\n",
    "rf_accuracy = accuracy_score(target_test, rf_predictions)\n",
    "print(\"Random Forest Model Accuracy:\", rf_accuracy)"
   ]
  },
  {
   "cell_type": "code",
   "execution_count": 24,
   "metadata": {
    "scrolled": true
   },
   "outputs": [
    {
     "name": "stdout",
     "output_type": "stream",
     "text": [
      "Random Forest F1: 64.43914081145584\n"
     ]
    }
   ],
   "source": [
    "print('Random Forest F1:', f1_score(target_test, rf_predictions)*100)"
   ]
  },
  {
   "cell_type": "code",
   "execution_count": 25,
   "metadata": {
    "scrolled": true
   },
   "outputs": [
    {
     "name": "stdout",
     "output_type": "stream",
     "text": [
      "AUC-ROC: 87.37002880304718\n"
     ]
    }
   ],
   "source": [
    "auc_roc = roc_auc_score(target_test, best_rf_model.predict_proba(features_test)[:, 1])\n",
    "print(f'AUC-ROC: {auc_roc*100}')"
   ]
  },
  {
   "cell_type": "markdown",
   "metadata": {},
   "source": [
    "Success! Our final model tested within the scope of our F1 parameters "
   ]
  },
  {
   "cell_type": "markdown",
   "metadata": {},
   "source": [
    "## Conclusion"
   ]
  },
  {
   "cell_type": "markdown",
   "metadata": {},
   "source": [
    "Best Model: Random Forest Model\n",
    "Final F1 score on Testing Data: 64.19\n",
    "    \n",
    "During this project I examined 3 ML models to determine which model best suited our goals. After choosing the Random Forest model with the highest initial F1 score I used class weight imbalance adjustments and upsampling my minority class to increase F1 to our target of 0.59. With hyperparameter optimization I was able to move the F1 score up even further. \n",
    "\n",
    "During this project I also considered using SMOTE, this methods seemed interesting in theory, my code was running for longer that 30 minutes and were deemed too inefficient for this project. "
   ]
  },
  {
   "cell_type": "code",
   "execution_count": null,
   "metadata": {},
   "outputs": [],
   "source": []
  }
 ],
 "metadata": {
  "ExecuteTimeLog": [
   {
    "duration": 14,
    "start_time": "2024-07-31T16:00:34.233Z"
   },
   {
    "duration": 377,
    "start_time": "2024-07-31T16:00:45.715Z"
   },
   {
    "duration": 469,
    "start_time": "2024-07-31T16:00:59.886Z"
   },
   {
    "duration": 41,
    "start_time": "2024-07-31T16:01:00.358Z"
   },
   {
    "duration": 25,
    "start_time": "2024-07-31T16:09:19.129Z"
   },
   {
    "duration": 75,
    "start_time": "2024-07-31T16:09:30.499Z"
   },
   {
    "duration": 794,
    "start_time": "2024-07-31T16:10:01.267Z"
   },
   {
    "duration": 43,
    "start_time": "2024-07-31T16:10:02.066Z"
   },
   {
    "duration": 20,
    "start_time": "2024-07-31T16:10:02.115Z"
   },
   {
    "duration": 1580,
    "start_time": "2024-07-31T16:10:02.328Z"
   },
   {
    "duration": 13,
    "start_time": "2024-07-31T16:10:48.888Z"
   },
   {
    "duration": 9,
    "start_time": "2024-07-31T16:12:15.083Z"
   },
   {
    "duration": 24,
    "start_time": "2024-07-31T16:14:01.591Z"
   },
   {
    "duration": 29,
    "start_time": "2024-07-31T16:14:08.530Z"
   },
   {
    "duration": 12,
    "start_time": "2024-07-31T16:14:15.662Z"
   },
   {
    "duration": 16,
    "start_time": "2024-07-31T16:14:34.796Z"
   },
   {
    "duration": 317,
    "start_time": "2024-07-31T21:29:07.590Z"
   },
   {
    "duration": 476,
    "start_time": "2024-07-31T21:29:18.419Z"
   },
   {
    "duration": 769,
    "start_time": "2024-07-31T21:29:18.901Z"
   },
   {
    "duration": 42,
    "start_time": "2024-07-31T21:29:19.674Z"
   },
   {
    "duration": 25,
    "start_time": "2024-07-31T21:29:19.722Z"
   },
   {
    "duration": 8,
    "start_time": "2024-07-31T21:29:19.751Z"
   },
   {
    "duration": 40,
    "start_time": "2024-07-31T21:29:19.763Z"
   },
   {
    "duration": 18,
    "start_time": "2024-07-31T21:29:19.807Z"
   },
   {
    "duration": 15,
    "start_time": "2024-07-31T21:29:19.828Z"
   },
   {
    "duration": 11,
    "start_time": "2024-07-31T21:29:19.846Z"
   },
   {
    "duration": 28,
    "start_time": "2024-07-31T21:32:27.182Z"
   },
   {
    "duration": 230,
    "start_time": "2024-07-31T21:34:24.925Z"
   },
   {
    "duration": 833,
    "start_time": "2024-07-31T21:37:20.431Z"
   },
   {
    "duration": 12,
    "start_time": "2024-07-31T21:38:54.181Z"
   },
   {
    "duration": 17,
    "start_time": "2024-07-31T21:38:57.118Z"
   },
   {
    "duration": 14,
    "start_time": "2024-07-31T21:38:57.447Z"
   },
   {
    "duration": 10,
    "start_time": "2024-07-31T21:38:58.171Z"
   },
   {
    "duration": 3,
    "start_time": "2024-07-31T21:38:59.198Z"
   },
   {
    "duration": 219,
    "start_time": "2024-07-31T21:38:59.686Z"
   },
   {
    "duration": 33,
    "start_time": "2024-07-31T21:47:54.316Z"
   },
   {
    "duration": 27,
    "start_time": "2024-07-31T21:59:05.442Z"
   },
   {
    "duration": 14,
    "start_time": "2024-07-31T22:01:00.627Z"
   },
   {
    "duration": 73,
    "start_time": "2024-07-31T22:01:19.918Z"
   },
   {
    "duration": 13,
    "start_time": "2024-07-31T22:01:50.625Z"
   },
   {
    "duration": 71,
    "start_time": "2024-07-31T22:02:50.713Z"
   },
   {
    "duration": 7532,
    "start_time": "2024-07-31T22:05:13.498Z"
   },
   {
    "duration": 31,
    "start_time": "2024-07-31T22:06:01.731Z"
   },
   {
    "duration": 462,
    "start_time": "2024-07-31T22:06:16.133Z"
   },
   {
    "duration": 589,
    "start_time": "2024-07-31T22:06:16.603Z"
   },
   {
    "duration": 30,
    "start_time": "2024-07-31T22:06:17.195Z"
   },
   {
    "duration": 25,
    "start_time": "2024-07-31T22:06:17.228Z"
   },
   {
    "duration": 8,
    "start_time": "2024-07-31T22:06:17.259Z"
   },
   {
    "duration": 10,
    "start_time": "2024-07-31T22:06:17.301Z"
   },
   {
    "duration": 13,
    "start_time": "2024-07-31T22:06:17.314Z"
   },
   {
    "duration": 16,
    "start_time": "2024-07-31T22:06:17.329Z"
   },
   {
    "duration": 11,
    "start_time": "2024-07-31T22:06:17.348Z"
   },
   {
    "duration": 39,
    "start_time": "2024-07-31T22:06:17.403Z"
   },
   {
    "duration": 258,
    "start_time": "2024-07-31T22:06:17.445Z"
   },
   {
    "duration": 20,
    "start_time": "2024-07-31T22:06:17.706Z"
   },
   {
    "duration": 3554,
    "start_time": "2024-07-31T22:06:17.803Z"
   },
   {
    "duration": 98,
    "start_time": "2024-07-31T22:06:21.363Z"
   },
   {
    "duration": 15,
    "start_time": "2024-07-31T22:07:22.263Z"
   },
   {
    "duration": 15,
    "start_time": "2024-07-31T22:07:40.310Z"
   },
   {
    "duration": 249,
    "start_time": "2024-07-31T22:07:51.247Z"
   },
   {
    "duration": 10,
    "start_time": "2024-07-31T22:10:33.214Z"
   },
   {
    "duration": 14,
    "start_time": "2024-07-31T22:10:45.834Z"
   },
   {
    "duration": 58,
    "start_time": "2024-07-31T22:10:59.121Z"
   },
   {
    "duration": 73,
    "start_time": "2024-07-31T22:11:28.585Z"
   },
   {
    "duration": 241,
    "start_time": "2024-07-31T22:15:05.675Z"
   },
   {
    "duration": 533,
    "start_time": "2024-07-31T22:16:43.388Z"
   },
   {
    "duration": 65,
    "start_time": "2024-07-31T22:18:07.992Z"
   },
   {
    "duration": 490,
    "start_time": "2024-07-31T22:18:52.326Z"
   },
   {
    "duration": 11,
    "start_time": "2024-07-31T22:25:17.633Z"
   },
   {
    "duration": 323,
    "start_time": "2024-07-31T22:25:28.496Z"
   },
   {
    "duration": 446,
    "start_time": "2024-07-31T22:31:11.139Z"
   },
   {
    "duration": 595,
    "start_time": "2024-07-31T22:31:11.589Z"
   },
   {
    "duration": 34,
    "start_time": "2024-07-31T22:31:12.187Z"
   },
   {
    "duration": 26,
    "start_time": "2024-07-31T22:31:12.224Z"
   },
   {
    "duration": 8,
    "start_time": "2024-07-31T22:31:12.257Z"
   },
   {
    "duration": 42,
    "start_time": "2024-07-31T22:31:12.269Z"
   },
   {
    "duration": 14,
    "start_time": "2024-07-31T22:31:12.315Z"
   },
   {
    "duration": 16,
    "start_time": "2024-07-31T22:31:12.332Z"
   },
   {
    "duration": 55,
    "start_time": "2024-07-31T22:31:12.351Z"
   },
   {
    "duration": 41,
    "start_time": "2024-07-31T22:31:12.409Z"
   },
   {
    "duration": 249,
    "start_time": "2024-07-31T22:31:12.453Z"
   },
   {
    "duration": 3583,
    "start_time": "2024-07-31T22:31:12.706Z"
   },
   {
    "duration": 103,
    "start_time": "2024-07-31T22:31:16.293Z"
   },
   {
    "duration": 603,
    "start_time": "2024-07-31T22:31:16.400Z"
   },
   {
    "duration": 401,
    "start_time": "2024-07-31T22:31:17.011Z"
   },
   {
    "duration": 30289,
    "start_time": "2024-07-31T22:31:17.420Z"
   },
   {
    "duration": 2499,
    "start_time": "2024-07-31T22:31:59.546Z"
   },
   {
    "duration": 4,
    "start_time": "2024-07-31T22:32:25.915Z"
   },
   {
    "duration": 463,
    "start_time": "2024-07-31T22:41:58.669Z"
   },
   {
    "duration": 633,
    "start_time": "2024-07-31T22:41:59.137Z"
   },
   {
    "duration": 33,
    "start_time": "2024-07-31T22:41:59.773Z"
   },
   {
    "duration": 24,
    "start_time": "2024-07-31T22:41:59.810Z"
   },
   {
    "duration": 8,
    "start_time": "2024-07-31T22:41:59.838Z"
   },
   {
    "duration": 11,
    "start_time": "2024-07-31T22:41:59.850Z"
   },
   {
    "duration": 15,
    "start_time": "2024-07-31T22:41:59.901Z"
   },
   {
    "duration": 19,
    "start_time": "2024-07-31T22:41:59.918Z"
   },
   {
    "duration": 10,
    "start_time": "2024-07-31T22:41:59.939Z"
   },
   {
    "duration": 71,
    "start_time": "2024-07-31T22:41:59.954Z"
   },
   {
    "duration": 276,
    "start_time": "2024-07-31T22:42:00.027Z"
   },
   {
    "duration": 3574,
    "start_time": "2024-07-31T22:42:00.306Z"
   },
   {
    "duration": 107,
    "start_time": "2024-07-31T22:42:03.883Z"
   },
   {
    "duration": 514,
    "start_time": "2024-07-31T22:42:03.993Z"
   },
   {
    "duration": 404,
    "start_time": "2024-07-31T22:42:04.510Z"
   },
   {
    "duration": 2660,
    "start_time": "2024-07-31T22:42:04.918Z"
   },
   {
    "duration": 508,
    "start_time": "2024-07-31T22:51:56.411Z"
   },
   {
    "duration": 564,
    "start_time": "2024-07-31T22:51:56.924Z"
   },
   {
    "duration": 30,
    "start_time": "2024-07-31T22:51:57.491Z"
   },
   {
    "duration": 25,
    "start_time": "2024-07-31T22:51:57.525Z"
   },
   {
    "duration": 9,
    "start_time": "2024-07-31T22:51:57.553Z"
   },
   {
    "duration": 45,
    "start_time": "2024-07-31T22:51:57.565Z"
   },
   {
    "duration": 14,
    "start_time": "2024-07-31T22:51:57.613Z"
   },
   {
    "duration": 16,
    "start_time": "2024-07-31T22:51:57.630Z"
   },
   {
    "duration": 10,
    "start_time": "2024-07-31T22:51:57.649Z"
   },
   {
    "duration": 42,
    "start_time": "2024-07-31T22:51:57.701Z"
   },
   {
    "duration": 261,
    "start_time": "2024-07-31T22:51:57.746Z"
   },
   {
    "duration": 3569,
    "start_time": "2024-07-31T22:51:58.010Z"
   },
   {
    "duration": 103,
    "start_time": "2024-07-31T22:52:01.584Z"
   },
   {
    "duration": 526,
    "start_time": "2024-07-31T22:52:01.693Z"
   },
   {
    "duration": 485,
    "start_time": "2024-07-31T22:52:02.222Z"
   },
   {
    "duration": 2531,
    "start_time": "2024-07-31T22:52:02.717Z"
   },
   {
    "duration": 454686,
    "start_time": "2024-07-31T22:52:05.252Z"
   },
   {
    "duration": 1611,
    "start_time": "2024-07-31T23:05:56.384Z"
   },
   {
    "duration": 2121,
    "start_time": "2024-07-31T23:06:16.882Z"
   },
   {
    "duration": 16,
    "start_time": "2024-07-31T23:06:58.785Z"
   },
   {
    "duration": 9,
    "start_time": "2024-07-31T23:09:40.392Z"
   },
   {
    "duration": 427,
    "start_time": "2024-07-31T23:09:51.227Z"
   },
   {
    "duration": 15,
    "start_time": "2024-07-31T23:10:38.666Z"
   },
   {
    "duration": 29,
    "start_time": "2024-07-31T23:10:38.999Z"
   },
   {
    "duration": 1493,
    "start_time": "2024-07-31T23:11:41.219Z"
   },
   {
    "duration": 1168,
    "start_time": "2024-07-31T23:11:58.787Z"
   },
   {
    "duration": 651,
    "start_time": "2024-07-31T23:12:07.866Z"
   },
   {
    "duration": 106,
    "start_time": "2024-07-31T23:12:17.357Z"
   },
   {
    "duration": 102,
    "start_time": "2024-07-31T23:12:25.125Z"
   },
   {
    "duration": 454,
    "start_time": "2024-07-31T23:13:03.930Z"
   },
   {
    "duration": 602,
    "start_time": "2024-07-31T23:13:04.387Z"
   },
   {
    "duration": 25,
    "start_time": "2024-07-31T23:13:05.001Z"
   },
   {
    "duration": 25,
    "start_time": "2024-07-31T23:13:05.028Z"
   },
   {
    "duration": 8,
    "start_time": "2024-07-31T23:13:05.058Z"
   },
   {
    "duration": 40,
    "start_time": "2024-07-31T23:13:05.069Z"
   },
   {
    "duration": 14,
    "start_time": "2024-07-31T23:13:05.112Z"
   },
   {
    "duration": 15,
    "start_time": "2024-07-31T23:13:05.129Z"
   },
   {
    "duration": 55,
    "start_time": "2024-07-31T23:13:05.147Z"
   },
   {
    "duration": 39,
    "start_time": "2024-07-31T23:13:05.205Z"
   },
   {
    "duration": 256,
    "start_time": "2024-07-31T23:13:05.247Z"
   },
   {
    "duration": 3624,
    "start_time": "2024-07-31T23:13:05.512Z"
   },
   {
    "duration": 104,
    "start_time": "2024-07-31T23:13:09.139Z"
   },
   {
    "duration": 555,
    "start_time": "2024-07-31T23:13:09.249Z"
   },
   {
    "duration": 488,
    "start_time": "2024-07-31T23:13:09.813Z"
   },
   {
    "duration": 2549,
    "start_time": "2024-07-31T23:13:10.310Z"
   },
   {
    "duration": 454790,
    "start_time": "2024-07-31T23:13:12.863Z"
   },
   {
    "duration": 2282,
    "start_time": "2024-07-31T23:20:47.656Z"
   },
   {
    "duration": 17,
    "start_time": "2024-07-31T23:20:49.941Z"
   },
   {
    "duration": 2468,
    "start_time": "2024-07-31T23:20:49.961Z"
   },
   {
    "duration": 429,
    "start_time": "2024-07-31T23:24:16.833Z"
   },
   {
    "duration": 359,
    "start_time": "2024-07-31T23:25:16.686Z"
   },
   {
    "duration": 3952,
    "start_time": "2024-08-01T01:55:41.459Z"
   },
   {
    "duration": 7,
    "start_time": "2024-08-01T01:56:17.349Z"
   },
   {
    "duration": 1197,
    "start_time": "2024-08-01T01:56:24.764Z"
   },
   {
    "duration": 5919,
    "start_time": "2024-08-01T13:06:26.090Z"
   },
   {
    "duration": 7175,
    "start_time": "2024-08-01T13:07:24.824Z"
   },
   {
    "duration": 3361,
    "start_time": "2024-08-01T13:07:48.861Z"
   },
   {
    "duration": 1732,
    "start_time": "2024-08-01T13:07:52.226Z"
   },
   {
    "duration": 61,
    "start_time": "2024-08-01T13:08:57.410Z"
   },
   {
    "duration": 25,
    "start_time": "2024-08-01T13:09:12.353Z"
   },
   {
    "duration": 6,
    "start_time": "2024-08-01T13:12:13.340Z"
   },
   {
    "duration": 48,
    "start_time": "2024-08-01T13:13:59.253Z"
   },
   {
    "duration": 8,
    "start_time": "2024-08-01T13:16:10.748Z"
   },
   {
    "duration": 21,
    "start_time": "2024-08-01T13:16:39.459Z"
   },
   {
    "duration": 7,
    "start_time": "2024-08-01T13:17:02.065Z"
   },
   {
    "duration": 16,
    "start_time": "2024-08-01T13:19:24.607Z"
   },
   {
    "duration": 10,
    "start_time": "2024-08-01T13:19:58.617Z"
   },
   {
    "duration": 21,
    "start_time": "2024-08-01T13:21:39.137Z"
   },
   {
    "duration": 1458,
    "start_time": "2024-08-01T13:39:43.456Z"
   },
   {
    "duration": 3414,
    "start_time": "2024-08-01T13:40:29.384Z"
   },
   {
    "duration": 1745,
    "start_time": "2024-08-01T13:40:32.801Z"
   },
   {
    "duration": 38,
    "start_time": "2024-08-01T13:40:34.549Z"
   },
   {
    "duration": 38,
    "start_time": "2024-08-01T13:40:34.591Z"
   },
   {
    "duration": 5,
    "start_time": "2024-08-01T13:40:34.632Z"
   },
   {
    "duration": 74,
    "start_time": "2024-08-01T13:40:34.641Z"
   },
   {
    "duration": 10,
    "start_time": "2024-08-01T13:40:34.718Z"
   },
   {
    "duration": 23,
    "start_time": "2024-08-01T13:40:34.731Z"
   },
   {
    "duration": 6,
    "start_time": "2024-08-01T13:40:34.758Z"
   },
   {
    "duration": 14,
    "start_time": "2024-08-01T13:40:34.809Z"
   },
   {
    "duration": 11,
    "start_time": "2024-08-01T13:40:34.826Z"
   },
   {
    "duration": 19,
    "start_time": "2024-08-01T13:40:34.840Z"
   },
   {
    "duration": 286,
    "start_time": "2024-08-01T13:42:49.412Z"
   },
   {
    "duration": 65,
    "start_time": "2024-08-01T13:43:46.027Z"
   },
   {
    "duration": 20,
    "start_time": "2024-08-01T13:44:53.011Z"
   },
   {
    "duration": 6,
    "start_time": "2024-08-01T13:44:53.530Z"
   },
   {
    "duration": 12,
    "start_time": "2024-08-01T13:44:55.633Z"
   },
   {
    "duration": 9,
    "start_time": "2024-08-01T13:44:57.049Z"
   },
   {
    "duration": 17,
    "start_time": "2024-08-01T13:44:57.278Z"
   },
   {
    "duration": 67,
    "start_time": "2024-08-01T13:44:57.679Z"
   },
   {
    "duration": 1237,
    "start_time": "2024-08-01T13:47:23.032Z"
   },
   {
    "duration": 3393,
    "start_time": "2024-08-01T13:47:44.729Z"
   },
   {
    "duration": 1734,
    "start_time": "2024-08-01T13:47:48.129Z"
   },
   {
    "duration": 47,
    "start_time": "2024-08-01T13:47:49.865Z"
   },
   {
    "duration": 25,
    "start_time": "2024-08-01T13:47:49.916Z"
   },
   {
    "duration": 6,
    "start_time": "2024-08-01T13:47:49.944Z"
   },
   {
    "duration": 72,
    "start_time": "2024-08-01T13:47:49.954Z"
   },
   {
    "duration": 11,
    "start_time": "2024-08-01T13:47:50.030Z"
   },
   {
    "duration": 20,
    "start_time": "2024-08-01T13:47:50.044Z"
   },
   {
    "duration": 38,
    "start_time": "2024-08-01T13:47:50.068Z"
   },
   {
    "duration": 12,
    "start_time": "2024-08-01T13:47:50.111Z"
   },
   {
    "duration": 11,
    "start_time": "2024-08-01T13:47:50.126Z"
   },
   {
    "duration": 19,
    "start_time": "2024-08-01T13:47:50.140Z"
   },
   {
    "duration": 1477,
    "start_time": "2024-08-01T13:47:50.162Z"
   },
   {
    "duration": 1175,
    "start_time": "2024-08-01T13:55:54.419Z"
   },
   {
    "duration": 26,
    "start_time": "2024-08-01T14:00:02.557Z"
   },
   {
    "duration": 1540,
    "start_time": "2024-08-01T14:00:52.540Z"
   },
   {
    "duration": 1555,
    "start_time": "2024-08-01T14:01:09.488Z"
   },
   {
    "duration": 1554,
    "start_time": "2024-08-01T14:01:13.861Z"
   },
   {
    "duration": 1161,
    "start_time": "2024-08-01T14:04:08.679Z"
   },
   {
    "duration": 49,
    "start_time": "2024-08-01T14:07:21.493Z"
   },
   {
    "duration": 9,
    "start_time": "2024-08-01T14:11:33.649Z"
   },
   {
    "duration": 12,
    "start_time": "2024-08-01T16:17:24.534Z"
   },
   {
    "duration": 321,
    "start_time": "2024-08-01T16:56:56.311Z"
   },
   {
    "duration": 948,
    "start_time": "2024-08-01T16:57:23.221Z"
   },
   {
    "duration": 107,
    "start_time": "2024-08-01T16:57:24.172Z"
   },
   {
    "duration": 99,
    "start_time": "2024-08-01T16:58:26.890Z"
   },
   {
    "duration": 40,
    "start_time": "2024-08-01T16:58:27.395Z"
   },
   {
    "duration": 7162,
    "start_time": "2024-08-01T16:58:39.049Z"
   },
   {
    "duration": 5790,
    "start_time": "2024-08-01T16:58:46.215Z"
   },
   {
    "duration": 0,
    "start_time": "2024-08-01T16:58:52.009Z"
   },
   {
    "duration": 0,
    "start_time": "2024-08-01T16:58:52.011Z"
   },
   {
    "duration": 1,
    "start_time": "2024-08-01T16:58:52.025Z"
   },
   {
    "duration": 0,
    "start_time": "2024-08-01T16:58:52.028Z"
   },
   {
    "duration": 0,
    "start_time": "2024-08-01T16:58:52.030Z"
   },
   {
    "duration": 0,
    "start_time": "2024-08-01T16:58:52.035Z"
   },
   {
    "duration": 0,
    "start_time": "2024-08-01T16:58:52.037Z"
   },
   {
    "duration": 1,
    "start_time": "2024-08-01T16:58:52.039Z"
   },
   {
    "duration": 0,
    "start_time": "2024-08-01T16:58:52.042Z"
   },
   {
    "duration": 0,
    "start_time": "2024-08-01T16:58:52.044Z"
   },
   {
    "duration": 0,
    "start_time": "2024-08-01T16:58:52.046Z"
   },
   {
    "duration": 0,
    "start_time": "2024-08-01T16:58:52.047Z"
   },
   {
    "duration": 0,
    "start_time": "2024-08-01T16:58:52.050Z"
   },
   {
    "duration": 0,
    "start_time": "2024-08-01T16:58:52.052Z"
   },
   {
    "duration": 0,
    "start_time": "2024-08-01T16:58:52.054Z"
   },
   {
    "duration": 0,
    "start_time": "2024-08-01T16:58:52.057Z"
   },
   {
    "duration": 0,
    "start_time": "2024-08-01T16:58:52.059Z"
   },
   {
    "duration": 0,
    "start_time": "2024-08-01T16:58:52.060Z"
   },
   {
    "duration": 3352,
    "start_time": "2024-08-01T16:59:13.142Z"
   },
   {
    "duration": 32,
    "start_time": "2024-08-01T16:59:16.499Z"
   },
   {
    "duration": 0,
    "start_time": "2024-08-01T16:59:16.534Z"
   },
   {
    "duration": 0,
    "start_time": "2024-08-01T16:59:16.536Z"
   },
   {
    "duration": 3494,
    "start_time": "2024-08-01T16:59:28.495Z"
   },
   {
    "duration": 1686,
    "start_time": "2024-08-01T16:59:31.993Z"
   },
   {
    "duration": 48,
    "start_time": "2024-08-01T16:59:33.682Z"
   },
   {
    "duration": 25,
    "start_time": "2024-08-01T16:59:33.734Z"
   },
   {
    "duration": 6,
    "start_time": "2024-08-01T16:59:33.762Z"
   },
   {
    "duration": 77,
    "start_time": "2024-08-01T16:59:33.772Z"
   },
   {
    "duration": 21,
    "start_time": "2024-08-01T16:59:33.853Z"
   },
   {
    "duration": 20,
    "start_time": "2024-08-01T16:59:33.877Z"
   },
   {
    "duration": 25,
    "start_time": "2024-08-01T16:59:33.900Z"
   },
   {
    "duration": 14,
    "start_time": "2024-08-01T16:59:33.932Z"
   },
   {
    "duration": 10,
    "start_time": "2024-08-01T16:59:33.948Z"
   },
   {
    "duration": 20,
    "start_time": "2024-08-01T16:59:33.961Z"
   },
   {
    "duration": 1552,
    "start_time": "2024-08-01T16:59:33.984Z"
   },
   {
    "duration": 1315,
    "start_time": "2024-08-01T16:59:35.539Z"
   },
   {
    "duration": 21,
    "start_time": "2024-08-01T16:59:36.857Z"
   },
   {
    "duration": 1602,
    "start_time": "2024-08-01T16:59:36.881Z"
   },
   {
    "duration": 5,
    "start_time": "2024-08-01T16:59:38.486Z"
   },
   {
    "duration": 167152,
    "start_time": "2024-08-01T16:59:38.495Z"
   },
   {
    "duration": 0,
    "start_time": "2024-08-01T17:02:25.651Z"
   },
   {
    "duration": 0,
    "start_time": "2024-08-01T17:02:25.654Z"
   },
   {
    "duration": 74655,
    "start_time": "2024-08-01T17:03:21.539Z"
   },
   {
    "duration": 220711,
    "start_time": "2024-08-01T17:05:25.608Z"
   },
   {
    "duration": 66,
    "start_time": "2024-08-01T17:11:02.114Z"
   },
   {
    "duration": 8,
    "start_time": "2024-08-01T17:11:03.457Z"
   },
   {
    "duration": 7,
    "start_time": "2024-08-01T17:12:12.880Z"
   },
   {
    "duration": 9,
    "start_time": "2024-08-01T17:12:30.353Z"
   },
   {
    "duration": 6,
    "start_time": "2024-08-01T17:12:31.147Z"
   },
   {
    "duration": 6,
    "start_time": "2024-08-01T17:12:54.424Z"
   },
   {
    "duration": 30,
    "start_time": "2024-08-01T17:14:10.803Z"
   },
   {
    "duration": 67,
    "start_time": "2024-08-01T17:14:27.300Z"
   },
   {
    "duration": 77,
    "start_time": "2024-08-01T17:14:37.560Z"
   },
   {
    "duration": 69,
    "start_time": "2024-08-01T17:15:15.124Z"
   },
   {
    "duration": 67,
    "start_time": "2024-08-01T17:15:42.505Z"
   },
   {
    "duration": 66,
    "start_time": "2024-08-01T17:25:47.899Z"
   },
   {
    "duration": 9,
    "start_time": "2024-08-01T17:25:48.292Z"
   },
   {
    "duration": 69,
    "start_time": "2024-08-01T17:25:48.753Z"
   },
   {
    "duration": 6,
    "start_time": "2024-08-01T17:34:11.874Z"
   },
   {
    "duration": 6,
    "start_time": "2024-08-01T17:34:21.168Z"
   },
   {
    "duration": 321,
    "start_time": "2024-08-02T13:13:04.271Z"
   },
   {
    "duration": 7385,
    "start_time": "2024-08-02T13:13:10.408Z"
   },
   {
    "duration": 6006,
    "start_time": "2024-08-02T13:13:17.797Z"
   },
   {
    "duration": 0,
    "start_time": "2024-08-02T13:13:23.807Z"
   },
   {
    "duration": 0,
    "start_time": "2024-08-02T13:13:23.809Z"
   },
   {
    "duration": 0,
    "start_time": "2024-08-02T13:13:23.813Z"
   },
   {
    "duration": 0,
    "start_time": "2024-08-02T13:13:23.814Z"
   },
   {
    "duration": 0,
    "start_time": "2024-08-02T13:13:23.817Z"
   },
   {
    "duration": 0,
    "start_time": "2024-08-02T13:13:23.819Z"
   },
   {
    "duration": 0,
    "start_time": "2024-08-02T13:13:23.822Z"
   },
   {
    "duration": 0,
    "start_time": "2024-08-02T13:13:23.823Z"
   },
   {
    "duration": 0,
    "start_time": "2024-08-02T13:13:23.826Z"
   },
   {
    "duration": 0,
    "start_time": "2024-08-02T13:13:23.828Z"
   },
   {
    "duration": 0,
    "start_time": "2024-08-02T13:13:23.830Z"
   },
   {
    "duration": 0,
    "start_time": "2024-08-02T13:13:23.832Z"
   },
   {
    "duration": 0,
    "start_time": "2024-08-02T13:13:23.835Z"
   },
   {
    "duration": 0,
    "start_time": "2024-08-02T13:13:23.838Z"
   },
   {
    "duration": 0,
    "start_time": "2024-08-02T13:13:23.840Z"
   },
   {
    "duration": 0,
    "start_time": "2024-08-02T13:13:23.891Z"
   },
   {
    "duration": 0,
    "start_time": "2024-08-02T13:13:23.895Z"
   },
   {
    "duration": 0,
    "start_time": "2024-08-02T13:13:23.896Z"
   },
   {
    "duration": 0,
    "start_time": "2024-08-02T13:13:23.899Z"
   },
   {
    "duration": 3628,
    "start_time": "2024-08-02T15:58:14.782Z"
   },
   {
    "duration": 1797,
    "start_time": "2024-08-02T15:58:18.414Z"
   },
   {
    "duration": 54,
    "start_time": "2024-08-02T15:58:20.215Z"
   },
   {
    "duration": 37,
    "start_time": "2024-08-02T15:58:20.274Z"
   },
   {
    "duration": 8,
    "start_time": "2024-08-02T15:58:20.314Z"
   },
   {
    "duration": 77,
    "start_time": "2024-08-02T15:58:20.326Z"
   },
   {
    "duration": 11,
    "start_time": "2024-08-02T15:58:20.406Z"
   },
   {
    "duration": 23,
    "start_time": "2024-08-02T15:58:20.421Z"
   },
   {
    "duration": 44,
    "start_time": "2024-08-02T15:58:20.448Z"
   },
   {
    "duration": 16,
    "start_time": "2024-08-02T15:58:20.499Z"
   },
   {
    "duration": 12,
    "start_time": "2024-08-02T15:58:20.519Z"
   },
   {
    "duration": 53,
    "start_time": "2024-08-02T15:58:20.537Z"
   },
   {
    "duration": 1556,
    "start_time": "2024-08-02T15:58:20.594Z"
   },
   {
    "duration": 1363,
    "start_time": "2024-08-02T15:58:22.192Z"
   },
   {
    "duration": 36,
    "start_time": "2024-08-02T15:58:23.557Z"
   },
   {
    "duration": 1675,
    "start_time": "2024-08-02T15:58:23.596Z"
   },
   {
    "duration": 5,
    "start_time": "2024-08-02T15:58:25.274Z"
   },
   {
    "duration": 233846,
    "start_time": "2024-08-02T15:58:25.291Z"
   },
   {
    "duration": 0,
    "start_time": "2024-08-02T16:02:19.140Z"
   },
   {
    "duration": 0,
    "start_time": "2024-08-02T16:02:19.143Z"
   },
   {
    "duration": 0,
    "start_time": "2024-08-02T16:02:19.145Z"
   },
   {
    "duration": 21,
    "start_time": "2024-08-02T16:04:51.259Z"
   },
   {
    "duration": 1503,
    "start_time": "2024-08-02T16:05:08.038Z"
   },
   {
    "duration": 18,
    "start_time": "2024-08-02T16:05:32.811Z"
   },
   {
    "duration": 24,
    "start_time": "2024-08-02T16:10:21.909Z"
   },
   {
    "duration": 33,
    "start_time": "2024-08-02T16:14:31.983Z"
   },
   {
    "duration": 4,
    "start_time": "2024-08-02T16:14:52.484Z"
   },
   {
    "duration": 827,
    "start_time": "2024-08-02T16:14:52.911Z"
   },
   {
    "duration": 7,
    "start_time": "2024-08-02T16:19:01.556Z"
   },
   {
    "duration": 3687,
    "start_time": "2024-08-02T16:19:22.255Z"
   },
   {
    "duration": 1758,
    "start_time": "2024-08-02T16:19:25.947Z"
   },
   {
    "duration": 42,
    "start_time": "2024-08-02T16:19:27.708Z"
   },
   {
    "duration": 43,
    "start_time": "2024-08-02T16:19:27.754Z"
   },
   {
    "duration": 7,
    "start_time": "2024-08-02T16:19:27.800Z"
   },
   {
    "duration": 7,
    "start_time": "2024-08-02T16:19:27.813Z"
   },
   {
    "duration": 1287,
    "start_time": "2024-08-02T16:19:27.825Z"
   },
   {
    "duration": 0,
    "start_time": "2024-08-02T16:19:29.117Z"
   },
   {
    "duration": 0,
    "start_time": "2024-08-02T16:19:29.119Z"
   },
   {
    "duration": 0,
    "start_time": "2024-08-02T16:19:29.122Z"
   },
   {
    "duration": 0,
    "start_time": "2024-08-02T16:19:29.125Z"
   },
   {
    "duration": 0,
    "start_time": "2024-08-02T16:19:29.128Z"
   },
   {
    "duration": 0,
    "start_time": "2024-08-02T16:19:29.131Z"
   },
   {
    "duration": 0,
    "start_time": "2024-08-02T16:19:29.133Z"
   },
   {
    "duration": 0,
    "start_time": "2024-08-02T16:19:29.136Z"
   },
   {
    "duration": 0,
    "start_time": "2024-08-02T16:19:29.139Z"
   },
   {
    "duration": 0,
    "start_time": "2024-08-02T16:19:29.141Z"
   },
   {
    "duration": 0,
    "start_time": "2024-08-02T16:19:29.143Z"
   },
   {
    "duration": 1,
    "start_time": "2024-08-02T16:19:29.145Z"
   },
   {
    "duration": 0,
    "start_time": "2024-08-02T16:19:29.148Z"
   },
   {
    "duration": 40,
    "start_time": "2024-08-02T16:19:29.149Z"
   },
   {
    "duration": 0,
    "start_time": "2024-08-02T16:19:29.197Z"
   },
   {
    "duration": 0,
    "start_time": "2024-08-02T16:19:29.201Z"
   },
   {
    "duration": 0,
    "start_time": "2024-08-02T16:19:29.204Z"
   },
   {
    "duration": 0,
    "start_time": "2024-08-02T16:19:29.207Z"
   },
   {
    "duration": 0,
    "start_time": "2024-08-02T16:19:29.209Z"
   },
   {
    "duration": 15,
    "start_time": "2024-08-02T16:19:34.780Z"
   },
   {
    "duration": 23,
    "start_time": "2024-08-02T16:19:35.195Z"
   },
   {
    "duration": 14,
    "start_time": "2024-08-02T16:20:05.243Z"
   },
   {
    "duration": 18,
    "start_time": "2024-08-02T16:20:06.040Z"
   },
   {
    "duration": 3942,
    "start_time": "2024-08-02T16:20:23.463Z"
   },
   {
    "duration": 1899,
    "start_time": "2024-08-02T16:20:27.409Z"
   },
   {
    "duration": 44,
    "start_time": "2024-08-02T16:20:29.311Z"
   },
   {
    "duration": 43,
    "start_time": "2024-08-02T16:20:29.361Z"
   },
   {
    "duration": 7,
    "start_time": "2024-08-02T16:20:29.409Z"
   },
   {
    "duration": 4,
    "start_time": "2024-08-02T16:20:29.422Z"
   },
   {
    "duration": 1275,
    "start_time": "2024-08-02T16:20:29.432Z"
   },
   {
    "duration": 0,
    "start_time": "2024-08-02T16:20:30.713Z"
   },
   {
    "duration": 0,
    "start_time": "2024-08-02T16:20:30.719Z"
   },
   {
    "duration": 1,
    "start_time": "2024-08-02T16:20:30.721Z"
   },
   {
    "duration": 0,
    "start_time": "2024-08-02T16:20:30.724Z"
   },
   {
    "duration": 0,
    "start_time": "2024-08-02T16:20:30.727Z"
   },
   {
    "duration": 0,
    "start_time": "2024-08-02T16:20:30.731Z"
   },
   {
    "duration": 0,
    "start_time": "2024-08-02T16:20:30.734Z"
   },
   {
    "duration": 0,
    "start_time": "2024-08-02T16:20:30.737Z"
   },
   {
    "duration": 0,
    "start_time": "2024-08-02T16:20:30.740Z"
   },
   {
    "duration": 0,
    "start_time": "2024-08-02T16:20:30.743Z"
   },
   {
    "duration": 0,
    "start_time": "2024-08-02T16:20:30.791Z"
   },
   {
    "duration": 0,
    "start_time": "2024-08-02T16:20:30.794Z"
   },
   {
    "duration": 0,
    "start_time": "2024-08-02T16:20:30.796Z"
   },
   {
    "duration": 0,
    "start_time": "2024-08-02T16:20:30.800Z"
   },
   {
    "duration": 0,
    "start_time": "2024-08-02T16:20:30.807Z"
   },
   {
    "duration": 0,
    "start_time": "2024-08-02T16:20:30.809Z"
   },
   {
    "duration": 0,
    "start_time": "2024-08-02T16:20:30.812Z"
   },
   {
    "duration": 0,
    "start_time": "2024-08-02T16:20:30.815Z"
   },
   {
    "duration": 0,
    "start_time": "2024-08-02T16:20:30.818Z"
   },
   {
    "duration": 22,
    "start_time": "2024-08-02T16:20:34.832Z"
   },
   {
    "duration": 23,
    "start_time": "2024-08-02T16:20:35.196Z"
   },
   {
    "duration": 3611,
    "start_time": "2024-08-02T16:28:08.363Z"
   },
   {
    "duration": 1907,
    "start_time": "2024-08-02T16:28:11.977Z"
   },
   {
    "duration": 40,
    "start_time": "2024-08-02T16:28:13.887Z"
   },
   {
    "duration": 32,
    "start_time": "2024-08-02T16:28:13.931Z"
   },
   {
    "duration": 7,
    "start_time": "2024-08-02T16:28:13.990Z"
   },
   {
    "duration": 5,
    "start_time": "2024-08-02T16:28:14.001Z"
   },
   {
    "duration": 15,
    "start_time": "2024-08-02T16:28:14.010Z"
   },
   {
    "duration": 21,
    "start_time": "2024-08-02T16:28:14.028Z"
   },
   {
    "duration": 48,
    "start_time": "2024-08-02T16:28:14.051Z"
   },
   {
    "duration": 23,
    "start_time": "2024-08-02T16:28:14.106Z"
   },
   {
    "duration": 10,
    "start_time": "2024-08-02T16:28:14.132Z"
   },
   {
    "duration": 54,
    "start_time": "2024-08-02T16:28:14.145Z"
   },
   {
    "duration": 12,
    "start_time": "2024-08-02T16:28:14.202Z"
   },
   {
    "duration": 21,
    "start_time": "2024-08-02T16:28:14.217Z"
   },
   {
    "duration": 62,
    "start_time": "2024-08-02T16:28:14.241Z"
   },
   {
    "duration": 13,
    "start_time": "2024-08-02T16:28:14.305Z"
   },
   {
    "duration": 1518,
    "start_time": "2024-08-02T16:28:14.321Z"
   },
   {
    "duration": 1280,
    "start_time": "2024-08-02T16:28:15.844Z"
   },
   {
    "duration": 21,
    "start_time": "2024-08-02T16:28:17.130Z"
   },
   {
    "duration": 1582,
    "start_time": "2024-08-02T16:28:17.154Z"
   },
   {
    "duration": 4,
    "start_time": "2024-08-02T16:28:18.740Z"
   },
   {
    "duration": 3667,
    "start_time": "2024-08-02T16:28:53.744Z"
   },
   {
    "duration": 1752,
    "start_time": "2024-08-02T16:28:57.415Z"
   },
   {
    "duration": 47,
    "start_time": "2024-08-02T16:28:59.170Z"
   },
   {
    "duration": 32,
    "start_time": "2024-08-02T16:28:59.220Z"
   },
   {
    "duration": 7,
    "start_time": "2024-08-02T16:28:59.258Z"
   },
   {
    "duration": 6,
    "start_time": "2024-08-02T16:28:59.295Z"
   },
   {
    "duration": 17,
    "start_time": "2024-08-02T16:28:59.305Z"
   },
   {
    "duration": 27,
    "start_time": "2024-08-02T16:28:59.325Z"
   },
   {
    "duration": 42,
    "start_time": "2024-08-02T16:28:59.356Z"
   },
   {
    "duration": 22,
    "start_time": "2024-08-02T16:28:59.404Z"
   },
   {
    "duration": 8,
    "start_time": "2024-08-02T16:28:59.429Z"
   },
   {
    "duration": 54,
    "start_time": "2024-08-02T16:28:59.442Z"
   },
   {
    "duration": 11,
    "start_time": "2024-08-02T16:28:59.499Z"
   },
   {
    "duration": 24,
    "start_time": "2024-08-02T16:28:59.518Z"
   },
   {
    "duration": 53,
    "start_time": "2024-08-02T16:28:59.545Z"
   },
   {
    "duration": 1446,
    "start_time": "2024-08-02T16:28:59.601Z"
   },
   {
    "duration": 1258,
    "start_time": "2024-08-02T16:29:01.050Z"
   },
   {
    "duration": 24,
    "start_time": "2024-08-02T16:29:02.311Z"
   },
   {
    "duration": 1666,
    "start_time": "2024-08-02T16:29:02.338Z"
   },
   {
    "duration": 4,
    "start_time": "2024-08-02T16:29:04.009Z"
   },
   {
    "duration": 218220,
    "start_time": "2024-08-02T16:29:04.016Z"
   },
   {
    "duration": 0,
    "start_time": "2024-08-02T16:32:42.240Z"
   },
   {
    "duration": 0,
    "start_time": "2024-08-02T16:32:42.243Z"
   },
   {
    "duration": 0,
    "start_time": "2024-08-02T16:32:42.245Z"
   },
   {
    "duration": 3494,
    "start_time": "2024-08-02T16:41:07.961Z"
   },
   {
    "duration": 1721,
    "start_time": "2024-08-02T16:41:11.459Z"
   },
   {
    "duration": 49,
    "start_time": "2024-08-02T16:41:13.183Z"
   },
   {
    "duration": 26,
    "start_time": "2024-08-02T16:41:13.236Z"
   },
   {
    "duration": 36,
    "start_time": "2024-08-02T16:41:13.265Z"
   },
   {
    "duration": 9,
    "start_time": "2024-08-02T16:41:13.304Z"
   },
   {
    "duration": 15,
    "start_time": "2024-08-02T16:41:13.318Z"
   },
   {
    "duration": 20,
    "start_time": "2024-08-02T16:41:13.336Z"
   },
   {
    "duration": 40,
    "start_time": "2024-08-02T16:41:13.360Z"
   },
   {
    "duration": 22,
    "start_time": "2024-08-02T16:41:13.408Z"
   },
   {
    "duration": 6,
    "start_time": "2024-08-02T16:41:13.434Z"
   },
   {
    "duration": 14,
    "start_time": "2024-08-02T16:41:13.443Z"
   },
   {
    "duration": 58,
    "start_time": "2024-08-02T16:41:13.459Z"
   },
   {
    "duration": 24,
    "start_time": "2024-08-02T16:41:13.524Z"
   },
   {
    "duration": 23,
    "start_time": "2024-08-02T16:41:13.553Z"
   },
   {
    "duration": 1428,
    "start_time": "2024-08-02T16:41:13.579Z"
   },
   {
    "duration": 1257,
    "start_time": "2024-08-02T16:41:15.012Z"
   },
   {
    "duration": 33,
    "start_time": "2024-08-02T16:41:16.272Z"
   },
   {
    "duration": 1525,
    "start_time": "2024-08-02T16:41:16.314Z"
   },
   {
    "duration": 4,
    "start_time": "2024-08-02T16:41:17.843Z"
   },
   {
    "duration": 3969,
    "start_time": "2024-11-21T15:22:37.114Z"
   },
   {
    "duration": 3120,
    "start_time": "2024-11-21T15:22:41.086Z"
   },
   {
    "duration": 0,
    "start_time": "2024-11-21T15:22:44.208Z"
   },
   {
    "duration": 0,
    "start_time": "2024-11-21T15:22:44.210Z"
   },
   {
    "duration": 0,
    "start_time": "2024-11-21T15:22:44.211Z"
   },
   {
    "duration": 0,
    "start_time": "2024-11-21T15:22:44.212Z"
   },
   {
    "duration": 0,
    "start_time": "2024-11-21T15:22:44.213Z"
   },
   {
    "duration": 0,
    "start_time": "2024-11-21T15:22:44.214Z"
   },
   {
    "duration": 0,
    "start_time": "2024-11-21T15:22:44.216Z"
   },
   {
    "duration": 0,
    "start_time": "2024-11-21T15:22:44.217Z"
   },
   {
    "duration": 0,
    "start_time": "2024-11-21T15:22:44.218Z"
   },
   {
    "duration": 0,
    "start_time": "2024-11-21T15:22:44.219Z"
   },
   {
    "duration": 0,
    "start_time": "2024-11-21T15:22:44.221Z"
   },
   {
    "duration": 0,
    "start_time": "2024-11-21T15:22:44.222Z"
   },
   {
    "duration": 0,
    "start_time": "2024-11-21T15:22:44.222Z"
   },
   {
    "duration": 0,
    "start_time": "2024-11-21T15:22:44.224Z"
   },
   {
    "duration": 0,
    "start_time": "2024-11-21T15:22:44.225Z"
   },
   {
    "duration": 0,
    "start_time": "2024-11-21T15:22:44.227Z"
   },
   {
    "duration": 0,
    "start_time": "2024-11-21T15:22:44.228Z"
   },
   {
    "duration": 0,
    "start_time": "2024-11-21T15:22:44.229Z"
   },
   {
    "duration": 0,
    "start_time": "2024-11-21T15:22:44.231Z"
   },
   {
    "duration": 0,
    "start_time": "2024-11-21T15:22:44.233Z"
   },
   {
    "duration": 0,
    "start_time": "2024-11-21T15:22:44.235Z"
   },
   {
    "duration": 0,
    "start_time": "2024-11-21T15:22:44.236Z"
   },
   {
    "duration": 23,
    "start_time": "2024-11-21T15:23:28.573Z"
   },
   {
    "duration": 1833,
    "start_time": "2024-11-21T15:24:15.493Z"
   },
   {
    "duration": 1060,
    "start_time": "2024-11-21T15:24:17.329Z"
   },
   {
    "duration": 33,
    "start_time": "2024-11-21T15:24:18.390Z"
   },
   {
    "duration": 13,
    "start_time": "2024-11-21T15:24:18.426Z"
   },
   {
    "duration": 3,
    "start_time": "2024-11-21T15:24:18.440Z"
   },
   {
    "duration": 3,
    "start_time": "2024-11-21T15:24:18.445Z"
   },
   {
    "duration": 8,
    "start_time": "2024-11-21T15:24:18.449Z"
   },
   {
    "duration": 9,
    "start_time": "2024-11-21T15:24:18.459Z"
   },
   {
    "duration": 36,
    "start_time": "2024-11-21T15:24:18.470Z"
   },
   {
    "duration": 11,
    "start_time": "2024-11-21T15:24:18.509Z"
   },
   {
    "duration": 3,
    "start_time": "2024-11-21T15:24:18.521Z"
   },
   {
    "duration": 7,
    "start_time": "2024-11-21T15:24:18.526Z"
   },
   {
    "duration": 5,
    "start_time": "2024-11-21T15:24:18.534Z"
   },
   {
    "duration": 10,
    "start_time": "2024-11-21T15:24:18.540Z"
   },
   {
    "duration": 11,
    "start_time": "2024-11-21T15:24:18.552Z"
   },
   {
    "duration": 848,
    "start_time": "2024-11-21T15:24:18.565Z"
   },
   {
    "duration": 700,
    "start_time": "2024-11-21T15:24:19.415Z"
   },
   {
    "duration": 12,
    "start_time": "2024-11-21T15:24:20.117Z"
   },
   {
    "duration": 835,
    "start_time": "2024-11-21T15:24:20.130Z"
   },
   {
    "duration": 4,
    "start_time": "2024-11-21T15:24:20.967Z"
   },
   {
    "duration": 114347,
    "start_time": "2024-11-21T15:24:20.972Z"
   },
   {
    "duration": 0,
    "start_time": "2024-11-21T15:26:15.320Z"
   },
   {
    "duration": 0,
    "start_time": "2024-11-21T15:26:15.322Z"
   },
   {
    "duration": 0,
    "start_time": "2024-11-21T15:26:15.323Z"
   },
   {
    "duration": 114659,
    "start_time": "2024-11-21T15:26:56.866Z"
   },
   {
    "duration": 41,
    "start_time": "2024-11-21T15:31:23.073Z"
   },
   {
    "duration": 5,
    "start_time": "2024-11-21T15:31:23.527Z"
   },
   {
    "duration": 40,
    "start_time": "2024-11-21T15:31:23.947Z"
   }
  ],
  "kernelspec": {
   "display_name": "Python 3 (ipykernel)",
   "language": "python",
   "name": "python3"
  },
  "language_info": {
   "codemirror_mode": {
    "name": "ipython",
    "version": 3
   },
   "file_extension": ".py",
   "mimetype": "text/x-python",
   "name": "python",
   "nbconvert_exporter": "python",
   "pygments_lexer": "ipython3",
   "version": "3.9.19"
  },
  "toc": {
   "base_numbering": 1,
   "nav_menu": {},
   "number_sections": true,
   "sideBar": true,
   "skip_h1_title": true,
   "title_cell": "Table of Contents",
   "title_sidebar": "Contents",
   "toc_cell": false,
   "toc_position": {},
   "toc_section_display": true,
   "toc_window_display": false
  }
 },
 "nbformat": 4,
 "nbformat_minor": 2
}
